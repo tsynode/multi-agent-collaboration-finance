{
 "cells": [
  {
   "cell_type": "markdown",
   "id": "fb8d63a2-913e-498a-a01a-5e66a39bf3e7",
   "metadata": {
    "pycharm": {
     "name": "#%% md\n"
    }
   },
   "source": [
    "# Lab 4.2. Financial Advisory Hub Invocation"
   ]
  },
  {
   "cell_type": "markdown",
   "id": "63678eaa-8830-4cbe-94af-5ebd8b0e03e0",
   "metadata": {
    "pycharm": {
     "name": "#%% md\n"
    }
   },
   "source": [
    "## Introduction\n",
    "\n",
    "In this notebook, we'll invoke our Financial Advisory Hub agent to demonstrate its capabilities in integrating financial data analytics and customer insights. We'll explore various scenarios that showcase how the hub coordinates between its sub-agents to provide comprehensive financial advice.\n",
    "\n",
    "The Financial Advisory Hub agent leverages two specialized sub-agents:\n",
    "1. **Data Analytics Agent**: Provides financial data analysis, transaction history, and financial projections\n",
    "2. **Customer Insights Agent**: Explains financial visualizations and recommends financial products\n",
    "\n",
    "By combining these capabilities, the Financial Advisory Hub can deliver holistic financial guidance that incorporates both data-driven analysis and personalized insights."
   ]
  },
  {
   "cell_type": "markdown",
   "id": "setup-section",
   "metadata": {},
   "source": [
    "## Setup\n",
    "\n",
    "First, let's import the necessary libraries and retrieve our agent information."
   ]
  },
  {
   "cell_type": "code",
   "execution_count": null,
   "id": "setup-code",
   "metadata": {},
   "outputs": [],
   "source": [
    "import boto3\n",
    "import json\n",
    "import time\n",
    "import sys\n",
    "from datetime import datetime\n",
    "\n",
    "sys.path.insert(0, \".\")\n",
    "sys.path.insert(1, \"..\")\n",
    "\n",
    "from utils.bedrock_agent_helper import (\n",
    "    AgentsForAmazonBedrock\n",
    ")\n",
    "agents = AgentsForAmazonBedrock()"
   ]
  },
  {
   "cell_type": "code",
   "execution_count": null,
   "id": "retrieve-agent-info",
   "metadata": {},
   "outputs": [],
   "source": [
    "%store -r\n",
    "financial_hub_agent_alias_id, financial_hub_agent_alias_arn"
   ]
  },
  {
   "cell_type": "code",
   "execution_count": null,
   "id": "check-agent-info",
   "metadata": {},
   "outputs": [],
   "source": [
    "# If store fails, add the agent alias ID and ARN manually\n",
    "# financial_hub_agent_alias_id = ''\n",
    "# financial_hub_agent_alias_arn = ''\n",
    "\n",
    "print(f\"Financial Hub Agent Alias ID: {financial_hub_agent_alias_id}\")\n",
    "print(f\"Financial Hub Agent Alias ARN: {financial_hub_agent_alias_arn}\")"
   ]
  },
  {
   "cell_type": "markdown",
   "id": "scenario-1",
   "metadata": {},
   "source": [
    "## Scenario 1: Transaction Analysis and Financial Visualization\n",
    "\n",
    "In this scenario, we'll ask the Financial Advisory Hub to analyze a customer's recent transactions and explain a spending trend visualization. This will demonstrate how the hub coordinates between the Data Analytics Agent and the Customer Insights Agent."
   ]
  },
  {
   "cell_type": "code",
   "execution_count": null,
   "id": "scenario-1-code",
   "metadata": {},
   "outputs": [],
   "source": [
    "%%time\n",
    "response = agents.invoke(\n",
    "    \"Can you analyze the recent transactions for customer ID 1 and explain their spending trend visualization?\", \n",
    "    financial_hub_agent_alias_id, \n",
    "    enable_trace=True\n",
    ")\n",
    "print(\"====================\")\n",
    "print(response)"
   ]
  },
  {
   "cell_type": "markdown",
   "id": "scenario-2",
   "metadata": {},
   "source": [
    "## Scenario 2: Financial Projection and Product Recommendation\n",
    "\n",
    "In this scenario, we'll ask the Financial Advisory Hub to generate financial projections for a customer and recommend appropriate financial products based on their profile. This will showcase how the hub integrates data analysis with personalized recommendations."
   ]
  },
  {
   "cell_type": "code",
   "execution_count": null,
   "id": "scenario-2-code",
   "metadata": {},
   "outputs": [],
   "source": [
    "%%time\n",
    "response = agents.invoke(\n",
    "    \"Based on the transaction history for customer ID 2, can you project their future spending and recommend financial products that would help them save more effectively?\", \n",
    "    financial_hub_agent_alias_id, \n",
    "    enable_trace=True\n",
    ")\n",
    "print(\"====================\")\n",
    "print(response)"
   ]
  },
  {
   "cell_type": "markdown",
   "id": "scenario-3",
   "metadata": {},
   "source": [
    "## Scenario 3: Investment Allocation Analysis\n",
    "\n",
    "In this scenario, we'll ask the Financial Advisory Hub to analyze an investment allocation visualization and provide insights on portfolio optimization. This will demonstrate the hub's ability to handle complex financial analysis and provide actionable advice."
   ]
  },
  {
   "cell_type": "code",
   "execution_count": null,
   "id": "scenario-3-code",
   "metadata": {},
   "outputs": [],
   "source": [
    "%%time\n",
    "investment_data = {\n",
    "    \"visualization_type\": \"investment_allocation\",\n",
    "    \"allocations\": [\n",
    "        {\"asset_class\": \"Stocks\", \"percentage\": 45},\n",
    "        {\"asset_class\": \"Bonds\", \"percentage\": 30},\n",
    "        {\"asset_class\": \"Real Estate\", \"percentage\": 15},\n",
    "        {\"asset_class\": \"Cash\", \"percentage\": 10}\n",
    "    ],\n",
    "    \"total_investment\": 250000,\n",
    "    \"risk_profile\": \"moderate\",\n",
    "    \"time_horizon\": \"long_term\"\n",
    "}\n",
    "\n",
    "response = agents.invoke(\n",
    "    f\"Can you analyze this investment allocation visualization and suggest any improvements for a moderate risk investor with a long-term horizon? The data is: {json.dumps(investment_data)}\", \n",
    "    financial_hub_agent_alias_id, \n",
    "    enable_trace=True\n",
    ")\n",
    "print(\"====================\")\n",
    "print(response)"
   ]
  },
  {
   "cell_type": "markdown",
   "id": "scenario-4",
   "metadata": {},
   "source": [
    "## Scenario 4: Budget Performance and Cash Flow Analysis\n",
    "\n",
    "In this scenario, we'll ask the Financial Advisory Hub to analyze budget performance and cash flow visualizations for a customer. This will showcase the hub's ability to provide comprehensive financial health assessment."
   ]
  },
  {
   "cell_type": "code",
   "execution_count": null,
   "id": "scenario-4-code",
   "metadata": {},
   "outputs": [],
   "source": [
    "%%time\n",
    "budget_data = {\n",
    "    \"visualization_type\": \"budget_performance\",\n",
    "    \"categories\": [\"Housing\", \"Transportation\", \"Food\", \"Entertainment\", \"Utilities\"],\n",
    "    \"planned\": [1500, 400, 600, 300, 250],\n",
    "    \"actual\": [1450, 380, 720, 450, 240],\n",
    "    \"time_period\": \"current_month\"\n",
    "}\n",
    "\n",
    "cash_flow_data = {\n",
    "    \"visualization_type\": \"cash_flow\",\n",
    "    \"months\": [\"January\", \"February\", \"March\"],\n",
    "    \"income\": [4500, 4500, 4800],\n",
    "    \"expenses\": [3800, 4200, 3950],\n",
    "    \"time_period\": \"3_months\"\n",
    "}\n",
    "\n",
    "response = agents.invoke(\n",
    "    f\"For customer ID 3, can you analyze their budget performance and cash flow, and provide recommendations for improving their financial health? Budget data: {json.dumps(budget_data)}. Cash flow data: {json.dumps(cash_flow_data)}\", \n",
    "    financial_hub_agent_alias_id, \n",
    "    enable_trace=True\n",
    ")\n",
    "print(\"====================\")\n",
    "print(response)"
   ]
  },
  {
   "cell_type": "markdown",
   "id": "conclusion",
   "metadata": {},
   "source": [
    "## Conclusion\n",
    "\n",
    "In this notebook, we've demonstrated how the Financial Advisory Hub agent integrates the capabilities of the Data Analytics Agent and Customer Insights Agent to provide comprehensive financial guidance. By leveraging Amazon Bedrock's multi-agent collaboration feature, we've created a powerful financial advisory system that can:\n",
    "\n",
    "1. Analyze transaction data and financial visualizations\n",
    "2. Generate financial projections and identify spending patterns\n",
    "3. Recommend appropriate financial products based on customer profiles\n",
    "4. Provide holistic financial health assessments and actionable advice\n",
    "\n",
    "This integrated approach enables bank operators to deliver more personalized and data-driven financial guidance to their customers, enhancing the overall customer experience and helping customers achieve their financial goals."
   ]
  }
 ],
 "metadata": {
  "kernelspec": {
   "display_name": "Python 3 (ipykernel)",
   "language": "python",
   "name": "python3"
  },
  "language_info": {
   "codemirror_mode": {
    "name": "ipython",
    "version": 3
   },
   "file_extension": ".py",
   "mimetype": "text/x-python",
   "name": "python",
   "nbconvert_exporter": "python",
   "pygments_lexer": "ipython3",
   "version": "3.11.11"
  }
 },
 "nbformat": 4,
 "nbformat_minor": 5
}
