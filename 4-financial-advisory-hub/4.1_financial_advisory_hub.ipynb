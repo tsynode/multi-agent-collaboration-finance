{
 "cells": [
  {
   "cell_type": "markdown",
   "id": "fb8d63a2-913e-498a-a01a-5e66a39bf3e7",
   "metadata": {
    "pycharm": {
     "name": "#%% md\n"
    }
   },
   "source": [
    "# Lab 4. Financial Advisory Hub"
   ]
  },
  {
   "cell_type": "markdown",
   "id": "63678eaa-8830-4cbe-94af-5ebd8b0e03e0",
   "metadata": {
    "pycharm": {
     "name": "#%% md\n"
    }
   },
   "source": [
    "## Introduction\n",
    "\n",
    "In this notebook, we'll create a Financial Advisory Hub using Amazon Bedrock's multi-agent collaboration feature. This hub will integrate the capabilities of our previously created agents:\n",
    "\n",
    "1. **Data Analytics Agent (Lab 1)**: Provides financial data analysis, transaction history, and financial projections\n",
    "2. **Customer Insights Agent (Lab 2)**: Explains financial visualizations and recommends financial products\n",
    "\n",
    "[Multi-agent Collaboration](https://docs.aws.amazon.com/bedrock/latest/userguide/agents-multi-agents-collaboration.html) is an Amazon Bedrock Agents native capability that enables hierarchical collaboration between agents. You can enable agent collaboration and associate secondary agents to a supervisor one. These secondary agents can be any existing agent within the same account. This composable pattern allows you to build a chain of agents, as shown in the figure below.\n",
    "\n",
    "![collaboration_hierarchy](img/multi-agent_flow.png)\n",
    "\n",
    "In this lab, we will create a supervisor agent that integrates the capabilities of our Data Analytics and Customer Insights agents to provide comprehensive financial advisory services.\n",
    "\n",
    "The following represents the architecture of our Financial Advisory Hub:\n",
    "\n",
    "![Architecture](img/financial_advisory_hub.png)"
   ]
  },
  {
   "cell_type": "markdown",
   "id": "7c1786d6",
   "metadata": {
    "pycharm": {
     "name": "#%% md\n"
    }
   },
   "source": [
    "This Lab is divided into two notebooks:\n",
    "\n",
    "- [4.1_financial_advisory_hub.ipynb](4.1_financial_advisory_hub.ipynb): Contains the Agent Setup\n",
    "- [4.2_financial_advisory_invocation.ipynb](4.2_financial_advisory_invocation.ipynb): Contains the Agent Invocation examples"
   ]
  },
  {
   "cell_type": "markdown",
   "id": "b3ba49fa-3293-4ea6-8dee-fb9f410c6481",
   "metadata": {
    "pycharm": {
     "name": "#%% md\n"
    }
   },
   "source": [
    "## Setup\n",
    "\n",
    "Make sure that your boto3 version is the latest one.\n",
    "\n",
    "If not, return to [notebook 1](../1-data-analytics/1_data_analytics_agent.ipynb) and run the Setup block again."
   ]
  },
  {
   "cell_type": "code",
   "execution_count": null,
   "id": "1895b3fc",
   "metadata": {
    "pycharm": {
     "name": "#%%\n"
    }
   },
   "outputs": [],
   "source": [
    "!pip freeze | grep boto3"
   ]
  },
  {
   "cell_type": "markdown",
   "id": "93680b4e",
   "metadata": {},
   "source": [
    "Get your workshop ID / resource suffix. If not found, return to [notebook 1](../1-data-analytics/1_data_analytics_agent.ipynb) and run the Setup block again."
   ]
  },
  {
   "cell_type": "code",
   "execution_count": null,
   "id": "6e82d0a4",
   "metadata": {},
   "outputs": [],
   "source": [
    "import os\n",
    "\n",
    "def get_workshop_id():\n",
    "    workshop_id_file = '../.workshop_id'\n",
    "    if os.path.exists(workshop_id_file):\n",
    "        with open(workshop_id_file, 'r') as f:\n",
    "            return f.read().strip()\n",
    "    else:\n",
    "        return None\n",
    "    \n",
    "workshop_id = get_workshop_id()\n",
    "resource_suffix = f\"{workshop_id}\"\n",
    "\n",
    "if workshop_id is None:\n",
    "    print(\"No workshop ID found. Please run the Setup script in notebook 1.\")\n",
    "else:\n",
    "    print(\"Your resource suffix is\", resource_suffix)"
   ]
  },
  {
   "cell_type": "markdown",
   "id": "ccf37dd5-bfaf-4563-a6ad-f9d7637c6e43",
   "metadata": {
    "pycharm": {
     "name": "#%% md\n"
    }
   },
   "source": [
    "### Creating the Financial Advisory Hub Agent\n",
    "\n",
    "In this section, we'll declare global variables that will act as helpers throughout the notebook and create our supervisor agent."
   ]
  },
  {
   "cell_type": "code",
   "execution_count": null,
   "id": "277a742a-5f17-4dfc-ac36-1b70ce8f4f7d",
   "metadata": {
    "pycharm": {
     "name": "#%%\n"
    }
   },
   "outputs": [],
   "source": [
    "import boto3\n",
    "import os\n",
    "import json\n",
    "import time\n",
    "import sys\n",
    "from datetime import datetime\n",
    "\n",
    "# Get AWS account ID\n",
    "sts_client = boto3.client('sts')\n",
    "account_id = sts_client.get_caller_identity()[\"Account\"]\n",
    "\n",
    "# Define foundation model\n",
    "agent_foundation_model = [\n",
    "    'anthropic.claude-3-5-sonnet-20240620-v1:0',\n",
    "    'anthropic.claude-3-sonnet-20240229-v1:0',\n",
    "    'anthropic.claude-3-haiku-20240307-v1:0'\n",
    "]"
   ]
  },
  {
   "cell_type": "code",
   "execution_count": null,
   "id": "5a16c8a4",
   "metadata": {
    "pycharm": {
     "name": "#%%\n"
    }
   },
   "outputs": [],
   "source": [
    "financial_hub_agent_name = f\"financial-hub-agent-{resource_suffix}\"\n",
    "\n",
    "financial_hub_agent_role_name = f'AmazonBedrockExecutionRoleForAgents_{financial_hub_agent_name}'"
   ]
  },
  {
   "cell_type": "markdown",
   "id": "137601c6",
   "metadata": {
    "pycharm": {
     "name": "#%% md\n"
    }
   },
   "source": [
    "### Importing helper functions\n",
    "\n",
    "Now, let's import the helper functions from the utils directory."
   ]
  },
  {
   "cell_type": "code",
   "execution_count": null,
   "id": "b3b1e7c3",
   "metadata": {
    "pycharm": {
     "name": "#%%\n"
    }
   },
   "outputs": [],
   "source": [
    "import sys\n",
    "\n",
    "sys.path.insert(0, \".\")\n",
    "sys.path.insert(1, \"..\")\n",
    "\n",
    "from utils.bedrock_agent_helper import (\n",
    "    AgentsForAmazonBedrock\n",
    ")\n",
    "agents = AgentsForAmazonBedrock()"
   ]
  },
  {
   "cell_type": "markdown",
   "id": "7120adde",
   "metadata": {
    "pycharm": {
     "name": "#%% md\n"
    }
   },
   "source": [
    "### Create the Financial Advisory Hub agent\n",
    "\n",
    "Now, let's create our supervisor agent that will coordinate between the Data Analytics and Customer Insights agents."
   ]
  },
  {
   "cell_type": "code",
   "execution_count": null,
   "id": "e1e168c8-180f-4977-96dd-d8006436208b",
   "metadata": {
    "pycharm": {
     "name": "#%%\n"
    }
   },
   "outputs": [],
   "source": [
    "financial_hub_agent = agents.create_agent(\n",
    "    financial_hub_agent_name,\n",
    "    \"Financial Advisory Hub that integrates data analytics and customer insights capabilities\",\n",
    "    \"\"\"\n",
    "    You are a Financial Advisory Hub, a sophisticated AI assistant designed to provide comprehensive financial guidance by integrating data analytics and customer insights capabilities.\n",
    "    \n",
    "    Your primary responsibilities include:\n",
    "    \n",
    "    1. Financial Data Analysis:\n",
    "       - Analyze customer transaction history and financial data\n",
    "       - Generate financial projections and forecasts\n",
    "       - Identify spending patterns and trends\n",
    "    \n",
    "    2. Visualization Explanation:\n",
    "       - Interpret and explain financial visualizations\n",
    "       - Provide insights on spending trends, investment allocations, cash flow, and budget performance\n",
    "       - Translate complex financial data into clear, actionable insights\n",
    "    \n",
    "    3. Financial Product Recommendations:\n",
    "       - Suggest appropriate financial products based on customer profiles and needs\n",
    "       - Provide personalized recommendations for investment strategies, savings plans, and financial tools\n",
    "    \n",
    "    4. Integrated Advisory Services:\n",
    "       - Combine data analysis with visualization insights to provide holistic financial advice\n",
    "       - Help customers understand their financial situation and make informed decisions\n",
    "       - Offer strategic guidance for financial planning and goal achievement\n",
    "    \n",
    "    When handling user requests:\n",
    "    - For data analysis and transaction-related queries, delegate to the Data Analytics Agent\n",
    "    - For visualization explanation and financial product recommendations, delegate to the Customer Insights Agent\n",
    "    - For complex queries requiring both capabilities, coordinate between both agents and synthesize their responses\n",
    "    - Always maintain a professional, helpful tone while making financial information accessible\n",
    "    \n",
    "    Remember that you are assisting bank operators who are helping customers, so frame your responses accordingly.\n",
    "    \"\"\",\n",
    "    agent_foundation_model,\n",
    "    agent_collaboration='SUPERVISOR_ROUTER'\n",
    ")\n",
    "\n",
    "financial_hub_agent"
   ]
  },
  {
   "cell_type": "markdown",
   "id": "store-variables",
   "metadata": {},
   "source": [
    "### Retrieve Sub-Agent Information\n",
    "\n",
    "Let's retrieve the information about our sub-agents from previous labs."
   ]
  },
  {
   "cell_type": "code",
   "execution_count": null,
   "id": "e26c8d0f",
   "metadata": {
    "pycharm": {
     "name": "#%%\n"
    }
   },
   "outputs": [],
   "source": [
    "%store -r\n",
    "analytics_agent_alias_arn, insights_agent_alias_arn"
   ]
  },
  {
   "cell_type": "code",
   "execution_count": null,
   "id": "9e82bb90",
   "metadata": {
    "pycharm": {
     "name": "#%%\n"
    }
   },
   "outputs": [],
   "source": [
    "# If store fails, add Alias ARNs here\n",
    "#analytics_agent_alias_arn = ''\n",
    "#insights_agent_alias_arn = ''"
   ]
  },
  {
   "cell_type": "code",
   "execution_count": null,
   "id": "a8368b8e",
   "metadata": {
    "pycharm": {
     "name": "#%%\n"
    }
   },
   "outputs": [],
   "source": [
    "sub_agents_list = [\n",
    "    {\n",
    "        'sub_agent_alias_arn': analytics_agent_alias_arn,\n",
    "        'sub_agent_instruction': \"\"\"Delegate financial data analysis tasks to the Data Analytics Agent. This agent can analyze transaction history, generate financial projections, and identify spending patterns. Use this agent for queries related to transaction data, financial statistics, and numerical analysis.\"\"\",\n",
    "        'sub_agent_association_name': 'DataAnalyticsAgent',\n",
    "        'relay_conversation_history': 'TO_COLLABORATOR'\n",
    "    },\n",
    "    {\n",
    "        'sub_agent_alias_arn': insights_agent_alias_arn,\n",
    "        'sub_agent_instruction': \"\"\"Assign visualization explanation and financial product recommendation tasks to the Customer Insights Agent. This agent can interpret spending trends, investment allocations, cash flow, and budget performance visualizations. It can also recommend financial products based on customer profiles. Use this agent for queries related to explaining financial visualizations and providing product recommendations.\"\"\",\n",
    "        'sub_agent_association_name': 'CustomerInsightsAgent',\n",
    "        'relay_conversation_history': 'TO_COLLABORATOR'\n",
    "    }\n",
    "]"
   ]
  },
  {
   "cell_type": "markdown",
   "id": "1b95cde7",
   "metadata": {
    "pycharm": {
     "name": "#%% md\n"
    }
   },
   "source": [
    "Check if parameters are correctly formatted:"
   ]
  },
  {
   "cell_type": "code",
   "execution_count": null,
   "id": "1f384ec7",
   "metadata": {
    "pycharm": {
     "name": "#%%\n"
    }
   },
   "outputs": [],
   "source": [
    "sub_agents_list"
   ]
  },
  {
   "cell_type": "markdown",
   "id": "e548cace",
   "metadata": {
    "pycharm": {
     "name": "#%% md\n"
    }
   },
   "source": [
    "Associate all sub-agents with our Financial Advisory Hub agent:"
   ]
  },
  {
   "cell_type": "code",
   "execution_count": null,
   "id": "cf73a655",
   "metadata": {
    "pycharm": {
     "name": "#%%\n"
    }
   },
   "outputs": [],
   "source": [
    "financial_hub_agent_alias_id, financial_hub_agent_alias_arn = agents.associate_sub_agents(\n",
    "    financial_hub_agent[0], sub_agents_list\n",
    ")"
   ]
  },
  {
   "cell_type": "markdown",
   "id": "b0537737",
   "metadata": {
    "pycharm": {
     "name": "#%% md\n"
    }
   },
   "source": [
    "Check the response return to see all returned parameters:"
   ]
  },
  {
   "cell_type": "code",
   "execution_count": null,
   "id": "b65c0767",
   "metadata": {
    "pycharm": {
     "name": "#%%\n"
    }
   },
   "outputs": [],
   "source": [
    "financial_hub_agent_alias_id, financial_hub_agent_alias_arn"
   ]
  },
  {
   "cell_type": "code",
   "execution_count": null,
   "id": "6b37f655-b174-4dab-aeac-0da8717cb15b",
   "metadata": {
    "pycharm": {
     "name": "#%%\n"
    }
   },
   "outputs": [],
   "source": [
    "%store financial_hub_agent_alias_id\n",
    "%store financial_hub_agent_alias_arn"
   ]
  },
  {
   "cell_type": "markdown",
   "id": "29db93eb-9a51-48d2-a6ae-a31b7b5ddde1",
   "metadata": {
    "pycharm": {
     "name": "#%% md\n"
    }
   },
   "source": [
    "## Next Steps\n",
    "Congratulations! We've now created a Financial Advisory Hub agent that integrates the capabilities of our Data Analytics and Customer Insights agents. Next, let's invoke our agent to see it in action."
   ]
  }
 ],
 "metadata": {
  "kernelspec": {
   "display_name": "Python 3 (ipykernel)",
   "language": "python",
   "name": "python3"
  },
  "language_info": {
   "codemirror_mode": {
    "name": "ipython",
    "version": 3
   },
   "file_extension": ".py",
   "mimetype": "text/x-python",
   "name": "python",
   "nbconvert_exporter": "python",
   "pygments_lexer": "ipython3",
   "version": "3.11.11"
  }
 },
 "nbformat": 4,
 "nbformat_minor": 5
}
