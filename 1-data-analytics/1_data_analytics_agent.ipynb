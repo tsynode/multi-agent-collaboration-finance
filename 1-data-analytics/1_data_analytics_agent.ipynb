{
 "cells": [
  {
   "cell_type": "markdown",
   "id": "fb8d63a2-913e-498a-a01a-5e66a39bf3e7",
   "metadata": {
    "pycharm": {
     "name": "#%% md\n"
    }
   },
   "source": [
    "# Lab 1. Data Analytics Agent"
   ]
  },
  {
   "attachments": {},
   "cell_type": "markdown",
   "id": "63678eaa-8830-4cbe-94af-5ebd8b0e03e0",
   "metadata": {
    "pycharm": {
     "name": "#%% md\n"
    }
   },
   "source": [
    "## Introduction\n",
    "\n",
    "In this notebook we show you how to create your first sub-agent on [Amazon Bedrock Agents](https://aws.amazon.com/bedrock/agents/).\n",
    "\n",
    "Amazon Bedrock Agents enable generative AI applications to execute multi-step business tasks using natural language.\n",
    "\n",
    "In our first example we will create a data analytics agent, where users can ask the agent to translate natural language questions into data queries and return information about financial transactions and projections. \n",
    "\n",
    "The following represents the piece of architecture that will be built on this module.\n",
    "\n",
    "![Data Analytics Agent Architecture](img/analytics_agent.png)\n",
    "\n",
    "In this example, we will enable our agent to use code interpretation capabilities to translate natural language questions into structured data queries and perform analysis on financial transaction data. We are also using [Amazon Bedrock Knowledge Bases](https://aws.amazon.com/bedrock/knowledge-bases/) to provide documentation about financial data analysis and query capabilities.\n",
    "\n",
    "For completion reasons, we assume that the financial projections have already been done outside the scope of this agent using a ML model."
   ]
  },
  {
   "cell_type": "markdown",
   "id": "b3ba49fa-3293-4ea6-8dee-fb9f410c6481",
   "metadata": {
    "pycharm": {
     "name": "#%% md\n"
    }
   },
   "source": [
    "## Setup\n",
    "\n",
    "Firstly, you are going to install boto3 dependencies from pip. Make sure you have the latest version of it for full capabilities"
   ]
  },
  {
   "cell_type": "code",
   "execution_count": null,
   "id": "a2436bab",
   "metadata": {
    "pycharm": {
     "name": "#%%\n"
    }
   },
   "outputs": [],
   "source": [
    "!pip uninstall boto3 botocore awscli --yes"
   ]
  },
  {
   "cell_type": "code",
   "execution_count": null,
   "id": "1abeca2c-3181-42c3-adc5-70f993fc7ab0",
   "metadata": {
    "pycharm": {
     "name": "#%%\n"
    },
    "scrolled": true
   },
   "outputs": [],
   "source": [
    "# Install latest dependencies\n",
    "!python3 -m pip install --force-reinstall --no-cache -q -r ../requirements.txt"
   ]
  },
  {
   "cell_type": "markdown",
   "id": "9cab0934-d025-47a2-a276-9d3fdb5a1d61",
   "metadata": {
    "pycharm": {
     "name": "#%% md\n"
    }
   },
   "source": [
    "#### Restart kernel\n",
    "\n",
    "If you face issues to apply the latest multi-agent capabilities, uncomment this line to restart kernel to ensure packages updates to take effect"
   ]
  },
  {
   "cell_type": "code",
   "execution_count": null,
   "id": "c10d5b0b-fc4d-4733-a1cc-49ef6402785f",
   "metadata": {
    "pycharm": {
     "name": "#%%\n"
    }
   },
   "outputs": [],
   "source": [
    "import IPython\n",
    "\n",
    "# IPython.Application.instance().kernel.do_shutdown(True)"
   ]
  },
  {
   "cell_type": "markdown",
   "id": "987fc8f7",
   "metadata": {
    "pycharm": {
     "name": "#%% md\n"
    }
   },
   "source": [
    "Check your boto3 version"
   ]
  },
  {
   "cell_type": "code",
   "execution_count": null,
   "id": "4cef0a80",
   "metadata": {
    "pycharm": {
     "name": "#%%\n"
    }
   },
   "outputs": [],
   "source": [
    "!pip freeze | grep boto3"
   ]
  },
  {
   "cell_type": "markdown",
   "id": "1acac183",
   "metadata": {},
   "source": [
    "#### Create Workshop ID\n",
    "\n",
    "Next, you are going to create an ID for your resources that will be reused for the remainder of the workshop."
   ]
  },
  {
   "cell_type": "code",
   "execution_count": null,
   "id": "971ed6d9",
   "metadata": {},
   "outputs": [],
   "source": [
    "import uuid\n",
    "import os\n",
    "from pathlib import Path\n",
    "\n",
    "def get_or_create_workshop_id():\n",
    "    workshop_id_file = '../.workshop_id'\n",
    "    \n",
    "    if os.path.exists(workshop_id_file):\n",
    "        with open(workshop_id_file, 'r') as f:\n",
    "            return f.read().strip()\n",
    "    else:\n",
    "        workshop_id = str(uuid.uuid4())[:8]\n",
    "        with open(workshop_id_file, 'w') as f:\n",
    "            f.write(workshop_id)\n",
    "        return workshop_id\n",
    "\n",
    "workshop_id = get_or_create_workshop_id()\n",
    "resource_suffix = f\"{workshop_id}\"\n",
    "print(\"Your resource suffix is\", resource_suffix)"
   ]
  },
  {
   "cell_type": "markdown",
   "id": "ccf37dd5-bfaf-4563-a6ad-f9d7637c6e43",
   "metadata": {
    "pycharm": {
     "name": "#%% md\n"
    }
   },
   "source": [
    "## Creating Agent\n",
    "\n",
    "On this section we declare global variables that will be act as helpers during entire notebook and you will start to create your first agent."
   ]
  },
  {
   "cell_type": "code",
   "execution_count": null,
   "id": "277a742a-5f17-4dfc-ac36-1b70ce8f4f7d",
   "metadata": {
    "pycharm": {
     "name": "#%%\n"
    }
   },
   "outputs": [],
   "source": [
    "import boto3\n",
    "import os\n",
    "import json\n",
    "import time\n",
    "from datetime import datetime\n",
    "from dateutil.relativedelta import relativedelta\n",
    "\n",
    "sts_client = boto3.client('sts')\n",
    "session = boto3.session.Session()\n",
    "\n",
    "account_id = sts_client.get_caller_identity()[\"Account\"]\n",
    "region = session.region_name\n",
    "\n",
    "s3_client = boto3.client('s3', region)\n",
    "bedrock_client = boto3.client('bedrock-runtime', region)\n",
    "\n",
    "agent_foundation_model = [\n",
    "    'anthropic.claude-3-5-sonnet-20240620-v1:0',\n",
    "    'anthropic.claude-3-sonnet-20240229-v1:0',\n",
    "    'anthropic.claude-3-haiku-20240307-v1:0'\n",
    "]\n",
    "\n",
    "curr_month = datetime.now()"
   ]
  },
  {
   "cell_type": "code",
   "execution_count": null,
   "id": "a27cc6c8-4faa-4adc-90c8-7ace112877e1",
   "metadata": {
    "pycharm": {
     "name": "#%%\n"
    }
   },
   "outputs": [],
   "source": [
    "analytics_agent_name = f\"analytics-{resource_suffix}\"\n",
    "\n",
    "data_analytics_lambda_name = f\"fn-analytics-agent-{resource_suffix}\"\n",
    "\n",
    "analytics_agent_role_name = f'AmazonBedrockExecutionRoleForAgents_{analytics_agent_name}'\n",
    "\n",
    "dynamodb_table = f\"{analytics_agent_name}-table\"\n",
    "dynamodb_pk = \"customer_id\"\n",
    "dynamodb_sk = \"day\"\n",
    "\n",
    "dynamoDB_args = [dynamodb_table, dynamodb_pk, dynamodb_sk]\n",
    "\n",
    "knowledge_base_name = f'{analytics_agent_name}-kb'\n",
    "\n",
    "knowledge_base_description = \"KB containing information on financial data analysis and query capabilities\"\n",
    "bucket_name = f'analytics-agent-kb-{account_id}-{resource_suffix}'\n",
    ""
   ]
  },
  {
   "cell_type": "markdown",
   "id": "9ad49f25",
   "metadata": {
    "pycharm": {
     "name": "#%% md\n"
    }
   },
   "source": [
    "### Importing helper functions\n",
    "\n",
    "On following section, we're adding `bedrock_agent_helper.py` and `knowledge_base_helper` on Python path, so the files can be recognized and their functionalities can be invoked.\n",
    "\n",
    "Now, you're going to import from helper classes `bedrock_agent_helper.py` and `knowledge_base_helper.py`.\n",
    " \n",
    "Those files contain helper classes totally focused on make labs experience smoothly. \n",
    "\n",
    "All interactions with Bedrock will be handled by these classes.\n",
    "\n",
    "Following are methods that you're going to invoke on this lab:\n",
    "\n",
    "On `agents.py`:\n",
    "- `create_agent`: Create a new agent and respective IAM roles\n",
    "- `add_action_group_with_lambda`: Create a lambda function and add it as an action group for a previous created agent\n",
    "- `create_agent_alias`: Create an alias for this agent\n",
    "- `invoke`: Execute agent\n",
    "\n",
    "On `knowledge_bases.py`:\n",
    "- `create_or_retrieve_knowledge_base`: Create Knowledge Base on Amazon Bedrock if it doesn't exist or get info about previous created.\n",
    "- `synchronize_data`: Read files on S3, convert text info into vectors and add that information on Vector Database."
   ]
  },
  {
   "cell_type": "code",
   "execution_count": null,
   "id": "bcad12b0",
   "metadata": {
    "pycharm": {
     "name": "#%%\n"
    }
   },
   "outputs": [],
   "source": [
    "import sys\n",
    "\n",
    "sys.path.insert(0, \".\")\n",
    "sys.path.insert(1, \"..\")\n",
    "\n",
    "from utils.bedrock_agent_helper import (\n",
    "    AgentsForAmazonBedrock\n",
    ")\n",
    "from utils.knowledge_base_helper import (\n",
    "    KnowledgeBasesForAmazonBedrock\n",
    ")\n",
    "agents = AgentsForAmazonBedrock()\n",
    "kb = KnowledgeBasesForAmazonBedrock()"
   ]
  },
  {
   "cell_type": "markdown",
   "id": "dc98a7c6",
   "metadata": {
    "pycharm": {
     "name": "#%% md\n"
    }
   },
   "source": [
    "## Create and syncronize Knowledge Base\n",
    "\n",
    "On this section, you're going to create a Amazon Bedrock Knowledge Base and ingest data on it.\n",
    "\n",
    "This data contains basic information about how projections process is done.\n",
    "\n",
    "**This creation process can take several minutes.**"
   ]
  },
  {
   "cell_type": "code",
   "execution_count": null,
   "id": "2e8e718b",
   "metadata": {
    "pycharm": {
     "name": "#%%\n"
    }
   },
   "outputs": [],
   "source": [
    "%%time\n",
    "kb_id, ds_id = kb.create_or_retrieve_knowledge_base(\n",
    "    knowledge_base_name,\n",
    "    knowledge_base_description,\n",
    "    bucket_name\n",
    ")\n",
    "\n",
    "print(f\"Knowledge Base ID: {kb_id}\")\n",
    "print(f\"Data Source ID: {ds_id}\")"
   ]
  },
  {
   "cell_type": "markdown",
   "id": "9475295c",
   "metadata": {
    "pycharm": {
     "name": "#%% md\n"
    }
   },
   "source": [
    "## Create Synthetic Data to Load on S3\n",
    "\n",
    "Instead of get data elsewhere, you're going to generate data, using a LLM on Amazon Bedrock.\n",
    "This fake data that will be generated, will be uploaded into a S3 bucket and then added into an Amazon Bedrock Knowledge Base."
   ]
  },
  {
   "cell_type": "code",
   "execution_count": null,
   "id": "e21af0b4",
   "metadata": {
    "pycharm": {
     "name": "#%%\n"
    }
   },
   "outputs": [],
   "source": [
    "path = \"kb_documents\"\n",
    "\n",
    "# Check whether the specified path exists or not\n",
    "is_exist = os.path.exists(path)\n",
    "if not is_exist:\n",
    "   # Create a new directory if it does not exist\n",
    "   os.makedirs(path)\n",
    "   print(\"The {} directory was created!\".format(path))\n",
    "else:\n",
    "   print(\"The {} directory already exists!\".format(path))"
   ]
  },
  {
   "cell_type": "markdown",
   "id": "154d8537",
   "metadata": {
    "pycharm": {
     "name": "#%% md\n"
    }
   },
   "source": [
    "Creating helper methods to invoke LLM on Bedrock and to write a local file using Python"
   ]
  },
  {
   "cell_type": "code",
   "execution_count": null,
   "id": "1729d027",
   "metadata": {
    "pycharm": {
     "name": "#%%\n"
    }
   },
   "outputs": [],
   "source": [
    "def invoke_bedrock_generate_financial_files(prompt):\n",
    "    message_list = []\n",
    "\n",
    "    initial_message = {\n",
    "        \"role\": \"user\",\n",
    "        \"content\": [\n",
    "            {\n",
    "                \"text\": prompt\n",
    "            }\n",
    "        ],\n",
    "    }\n",
    "\n",
    "    message_list.append(initial_message)\n",
    "\n",
    "    response = bedrock_client.converse(\n",
    "        modelId=agent_foundation_model[0],\n",
    "        messages=message_list,\n",
    "        inferenceConfig={\n",
    "            \"maxTokens\": 2048,\n",
    "            \"temperature\": 0\n",
    "        },\n",
    "    )\n",
    "\n",
    "    return response['output']['message']\n",
    "\n",
    "\n",
    "def write_file(file_name, content):\n",
    "    f = open(file_name, 'w')\n",
    "    f.write(content)\n",
    "    f.close()"
   ]
  },
  {
   "cell_type": "markdown",
   "id": "be06807e",
   "metadata": {
    "pycharm": {
     "name": "#%% md\n"
    }
   },
   "source": [
    "### Generating data prompt\n",
    "Generating one file with projectionsing info using the LLM model"
   ]
  },
  {
   "cell_type": "code",
   "execution_count": null,
   "id": "b7978ad4",
   "metadata": {
    "pycharm": {
     "name": "#%%\n"
    }
   },
   "outputs": [],
   "source": [
    "text_generation_financial_instructions = '''\n",
    "    You will act as a data scientist who specializes in financial data analysis using Python and data science libraries. You will generate a step-by-step guide on how to analyze financial transaction data and translate natural language questions into structured queries.\n",
    "\n",
    "    This data has the following json structure:\n",
    "    {\n",
    "        \"user_id\": \"1\",\n",
    "        \"day\": \"2025/03/01\",\n",
    "        \"transactionAmount\": \"1460.75\",\n",
    "        \"type\": \"actual\",\n",
    "        \"transactionType\": \"deposit\"\n",
    "    }\n",
    "\n",
    "    Explain how to translate natural language questions into structured data queries for financial analysis. Provide a step-by-step guide with code samples for analyzing transaction patterns, identifying trends, and generating insights from financial data.\n",
    "\n",
    "    Include explanations on how to interpret transaction patterns, identify anomalies, and extract meaningful insights from financial data to support decision-making.\n",
    "\n",
    "    Answer only with the step-by-step, avoid answer with afirmations like:\n",
    "    \"OK, they can generate it,\" or \"Yes, please find following example.\"\n",
    "    Be direct and only reply the step-by-step.\n",
    "'''\n",
    "\n",
    "financial_analytics_file_name = 'financial-analytics-info.txt'\n",
    "\n",
    "response_message = invoke_bedrock_generate_financial_files(\n",
    "    text_generation_financial_instructions\n",
    ")\n",
    "\n",
    "print(\"Generated data to be stored in the KB:\\n\", response_message['content'][0]['text'])\n",
    "write_file(\n",
    "    '{}/{}'.format(path, financial_analytics_file_name),\n",
    "    response_message['content'][0]['text']\n",
    ")"
   ]
  },
  {
   "cell_type": "markdown",
   "id": "67f13cef",
   "metadata": {
    "pycharm": {
     "name": "#%% md\n"
    }
   },
   "source": [
    "### Uploading data to s3\n",
    "Uploading generated files into an Amazon S3 Bucket."
   ]
  },
  {
   "cell_type": "code",
   "execution_count": null,
   "id": "01a44526",
   "metadata": {
    "pycharm": {
     "name": "#%%\n"
    }
   },
   "outputs": [],
   "source": [
    "def upload_directory(path, bucket_name):\n",
    "    for root,dirs,files in os.walk(path):\n",
    "        for file in files:\n",
    "            file_to_upload = os.path.join(root,file)\n",
    "            print(f\"uploading file {file_to_upload} to {bucket_name}\")\n",
    "            s3_client.upload_file(file_to_upload,bucket_name,file)"
   ]
  },
  {
   "cell_type": "markdown",
   "id": "3b38c6b5-a782-48df-bd69-e5a41aeed9ab",
   "metadata": {
    "pycharm": {
     "name": "#%% md\n"
    }
   },
   "source": [
    "### Synchronizing Knowledge Base\n",
    "Now that the data is available in the s3 bucket, let's synchronize it to our knowledge base"
   ]
  },
  {
   "cell_type": "code",
   "execution_count": null,
   "id": "213ae97a",
   "metadata": {
    "pycharm": {
     "name": "#%%\n"
    }
   },
   "outputs": [],
   "source": [
    "upload_directory(\"kb_documents\", bucket_name)\n",
    "\n",
    "# sync knowledge base\n",
    "kb.synchronize_data(kb_id, ds_id)"
   ]
  },
  {
   "cell_type": "markdown",
   "id": "5f65af49",
   "metadata": {
    "pycharm": {
     "name": "#%% md\n"
    }
   },
   "source": [
    "You are a financial data analytics assistant that helps users analyze their transaction data.Your primary capabilities are:1. Translating natural language questions into structured data queries2. Providing information about historical transactions, projected transactions, and transaction statistics3. Performing calculations and analysis on financial data4. Explaining financial trends and patterns in simple termsWhen bank operators ask questions about customer data, try to understand what they're looking for and translate their request into the appropriate query. For example:User: \"Show recent transactions for customer with ID 1\"You should use the get_historical_transactions function with the customer_id.User: \"What are the projected transactions for customer with ID 1 next month?\"You should use the get_projected_transactions function with the customer_id.User: \"How much did customer with ID 2 spend on withdrawals last month?\"You should use the get_historical_transactions function with the customer_id, then analyze the results to calculate the total amount of withdrawals.User: \"Can you analyze spending patterns for customer with ID 3?\"You should use the get_transaction_statistics function with the customer_id and provide insights on their transaction patterns.When providing information, always be clear and concise. Explain financial concepts in simple terms and highlight important trends or patterns in the data. If you need to perform calculations, show your work so the user can understand how you arrived at your conclusions.Remember that bank operators may need to explain financial concepts to customers, so avoid jargon when possible. If you need to use technical terms, provide brief explanations.Your goal is to help bank operators analyze customer transaction data and provide insights through natural language interaction.\n",
    ""
   ]
  },
  {
   "cell_type": "code",
   "execution_count": null,
   "id": "daab9cee",
   "metadata": {
    "pycharm": {
     "name": "#%%\n"
    }
   },
   "outputs": [],
   "source": [
    "kb_info = kb.get_kb(kb_id)\n",
    "kb_arn = kb_info['knowledgeBase']['knowledgeBaseArn']"
   ]
  },
  {
   "cell_type": "code",
   "execution_count": null,
   "id": "9f31d063",
   "metadata": {
    "pycharm": {
     "name": "#%%\n"
    }
   },
   "outputs": [],
   "source": [
    "kb_config = {\n",
    "    'kb_id': kb_id,\n",
    "    'kb_instruction': \"\"\"Access this knowledge base when needing to explain specific projections generation methodology.\"\"\"\n",
    "}"
   ]
  },
  {
   "cell_type": "code",
   "execution_count": null,
   "id": "c4b3f749-dff9-46af-a362-74851ce0713c",
   "metadata": {
    "pycharm": {
     "name": "#%%\n"
    }
   },
   "outputs": [],
   "source": [
    "agent_description = \"\"\"You are a transaction data projections bot.\n",
    "You can retrieve historical transaction amounts, projectionsed transactions, amount statistics and update a projections for a specific user\"\"\"\n",
    "\n",
    "agent_instruction = \"\"\"You are a financial data analytics assistant that helps users analyze their transaction data.\n",
    "You are a financial data analytics assistant that helps users analyze their transaction data.\n",
    "\n",
    "Your primary capabilities are:\n",
    "1. Translating natural language questions into structured data queries\n",
    "2. Providing information about historical transactions, projected transactions, and transaction statistics\n",
    "3. Performing calculations and analysis on financial data\n",
    "4. Explaining financial trends and patterns in simple terms\n",
    "\n",
    "When bank operators ask questions about customer data, try to understand what they're looking for and translate their request into the appropriate query. For example:\n",
    "\n",
    "User: \"Show recent transactions for customer with ID 1\"\n",
    "You should use the get_historical_transactions function with the customer_id.\n",
    "\n",
    "User: \"What are the projected transactions for customer with ID 1 next month?\"\n",
    "You should use the get_projected_transactions function with the customer_id.\n",
    "\n",
    "User: \"How much did customer with ID 2 spend on withdrawals last month?\"\n",
    "You should use the get_historical_transactions function with the customer_id, then analyze the results to calculate the total amount of withdrawals.\n",
    "\n",
    "User: \"Can you analyze spending patterns for customer with ID 3?\"\n",
    "You should use the get_transaction_statistics function with the customer_id and provide insights on their transaction patterns.\n",
    "\n",
    "When providing information, always be clear and concise. Explain financial concepts in simple terms and highlight important trends or patterns in the data. If you need to perform calculations, show your work so the user can understand how you arrived at your conclusions.\n",
    "\n",
    "Remember that bank operators may need to explain financial concepts to customers, so avoid jargon when possible. If you need to use technical terms, provide brief explanations.\n",
    "\n",
    "Your goal is to help bank operators analyze customer transaction data and provide insights through natural language interaction.\n",
    "",
    "\n\"\"\"\n",
    "\n",
    "analytics_agent = agents.create_agent(\n",
    "    analytics_agent_name,\n",
    "    agent_description,\n",
    "    agent_instruction,\n",
    "    agent_foundation_model,\n",
    "    kb_arns=[kb_arn],\n",
    "    code_interpretation=True\n",
    ")\n",
    "\n",
    "analytics_agent"
   ]
  },
  {
   "cell_type": "markdown",
   "id": "5ac3046e-d2f0-459e-ac43-4cd600316ccf",
   "metadata": {
    "pycharm": {
     "name": "#%% md\n"
    }
   },
   "source": [
    "### Associating knowledge base\n",
    "Now that we've created the agent, let's associate the previously created knowledge base to it."
   ]
  },
  {
   "cell_type": "code",
   "execution_count": null,
   "id": "d6c248b3",
   "metadata": {
    "pycharm": {
     "name": "#%%\n"
    }
   },
   "outputs": [],
   "source": [
    "agents.associate_kb_with_agent(\n",
    "    analytics_agent[0],\n",
    "    kb_config['kb_instruction'],\n",
    "    kb_config['kb_id']\n",
    ")"
   ]
  },
  {
   "cell_type": "markdown",
   "id": "67dfcc57-5958-45e8-a4ea-53620142c017",
   "metadata": {
    "pycharm": {
     "name": "#%% md\n"
    }
   },
   "source": [
    "### Creating Lambda\n",
    "\n",
    "In order to enable the agent to execute tasks, we will create an AWS Lambda function that implements the tasks execution. We will then provide this lambda function to the agent action group. You can find more information on how to use action groups to define actions that your agent can perform [here](https://docs.aws.amazon.com/bedrock/latest/userguide/agents-action-create.html)\n",
    "\n",
    "On this block, we're going to generate Lambda function Code:"
   ]
  },
  {
   "cell_type": "code",
   "execution_count": null,
   "id": "d2cfc71d-4b0e-4b00-9159-cc3efd2becbc",
   "metadata": {
    "pycharm": {
     "name": "#%%\n"
    }
   },
   "outputs": [],
   "source": [
    "%%writefile financial_analytics.py\n",
    "import boto3\n",
    "import json\n",
    "import os\n",
    "\n",
    "from boto3.dynamodb.conditions import Key, Attr\n",
    "from datetime import datetime\n",
    "from decimal import Decimal\n",
    "\n",
    "dynamodb_resource = boto3.resource('dynamodb')\n",
    "dynamodb_table = os.getenv('dynamodb_table')\n",
    "dynamodb_pk = os.getenv('dynamodb_pk')\n",
    "dynamodb_sk = os.getenv('dynamodb_sk')\n",
    "truncated_month = datetime.today().replace(day=1, hour=0, minute=0, second=0, microsecond=0)\n",
    "\n",
    "\n",
    "def get_named_parameter(event, name):\n",
    "    return next(item for item in event['parameters'] if item['name'] == name)['value']\n",
    "    \n",
    "def populate_function_response(event, response_body):\n",
    "    return {'response': {'actionGroup': event['actionGroup'], 'function': event['function'],\n",
    "                'functionResponse': {'responseBody': {'TEXT': {'body': str(response_body)}}}}}\n",
    "\n",
    "def trunc_datetime(month,year):\n",
    "    return datetime.today().replace(year =int(year), month=int(month), day=1, hour=0, minute=0, second=0, microsecond=0)\n",
    "\n",
    "def put_dynamodb(table_name, item):\n",
    "    table = dynamodb_resource.Table(table_name)\n",
    "    resp = table.put_item(Item=item)\n",
    "    return resp\n",
    "\n",
    "def read_dynamodb(\n",
    "    table_name: str, \n",
    "    pk_field: str,\n",
    "    pk_value: str,\n",
    "    sk_field: str=None, \n",
    "    sk_value: str=None,\n",
    "    attr_key: str=None,\n",
    "    attr_val: str=None\n",
    "):\n",
    "    try:\n",
    "\n",
    "        table = dynamodb_resource.Table(table_name)\n",
    "        # Create expression\n",
    "        if sk_field:\n",
    "            key_expression = Key(pk_field).eq(pk_value) & Key(sk_field).eq(sk_value)\n",
    "        else:\n",
    "            key_expression = Key(pk_field).eq(pk_value)\n",
    "\n",
    "        if attr_key:\n",
    "            attr_expression = Attr(attr_key).eq(attr_val)\n",
    "            query_data = table.query(\n",
    "                KeyConditionExpression=key_expression,\n",
    "                FilterExpression=attr_expression\n",
    "            )\n",
    "        else:\n",
    "            query_data = table.query(\n",
    "                KeyConditionExpression=key_expression\n",
    "            )\n",
    "        \n",
    "        return query_data['Items']\n",
    "    except Exception:\n",
    "        print(f'Error querying table: {table_name}.')\n",
    "\n",
    "def get_projected_transactions(user_id):\n",
    "    return read_dynamodb(dynamodb_table, \n",
    "                         dynamodb_pk, \n",
    "                         user_id, \n",
    "                         attr_key=\"type\", attr_val=\"projected\")\n",
    "\n",
    "def get_historical_transactions(user_id):\n",
    "    return read_dynamodb(dynamodb_table, \n",
    "                         dynamodb_pk, \n",
    "                         user_id, \n",
    "                         attr_key=\"type\", attr_val=\"actual\")\n",
    "\n",
    "def get_transaction_statistics(user_id):\n",
    "    return read_dynamodb(dynamodb_table, \n",
    "                         dynamodb_pk, \n",
    "                         user_id, \n",
    "                         dynamodb_sk, \n",
    "                         truncated_month.strftime('%Y/%m/%d'))\n",
    "\n",
    "def update_projections(user_id, month, year, amount):\n",
    "    current_date = trunc_datetime(month, year)\n",
    "    if  current_date >= truncated_month:\n",
    "        item = {\n",
    "            'customer_id': user_id,\n",
    "            'day': current_date.strftime('%Y/%m/%d'),\n",
    "            'transactionAmount': Decimal(amount),\n",
    "            'type': 'projected'\n",
    "        }\n",
    "        put_dynamodb(dynamodb_table, item)\n",
    "        return \"Day: {} updated for user: {}\".format(current_date.strftime('%Y/%m/%d'), user_id)\n",
    "    else:\n",
    "        return \"You're trying to change a past date: {} for user: {}, which is not allowed\".format(current_date.strftime('%Y/%m/%d'), user_id)\n",
    "\n",
    "def lambda_handler(event, context):\n",
    "    print(event)\n",
    "    \n",
    "    # name of the function that should be invoked\n",
    "    function = event.get('function', '')\n",
    "\n",
    "    # parameters to invoke function with\n",
    "    parameters = event.get('parameters', [])\n",
    "    user_id = get_named_parameter(event, \"user_id\")\n",
    "\n",
    "    if function == 'get_projected_transactions':\n",
    "        result = get_projected_transactions(user_id)\n",
    "    elif function == 'get_historical_transactions':\n",
    "        result = get_historical_transactions(user_id)\n",
    "    elif function == 'get_transaction_statistics':\n",
    "        result = get_transaction_statistics(user_id)\n",
    "    elif function == 'update_projections':\n",
    "        month = get_named_parameter(event, \"month\")\n",
    "        year = get_named_parameter(event, \"year\")\n",
    "        amount = get_named_parameter(event, \"amount\")\n",
    "        result = update_projections(user_id, month, year, amount)\n",
    "    else:\n",
    "        result = f\"Error, function '{function}' not recognized\"\n",
    "\n",
    "    response = populate_function_response(event, result)\n",
    "    print(response)\n",
    "    return response"
   ]
  },
  {
   "cell_type": "markdown",
   "id": "e93595f1-b662-42e5-b6a5-9bdbffb5756f",
   "metadata": {
    "pycharm": {
     "name": "#%% md\n"
    }
   },
   "source": [
    "### Defining available actions\n",
    "\n",
    "Next we will define the available actions that an agent can perform using [Function Details](https://docs.aws.amazon.com/bedrock/latest/userguide/agents-action-function.html). You can also do this task using OpenAPI Schemas, which can be very useful if you already have an OpenAPI schema available for your application.\n",
    "\n",
    "When creating your function details, it is important to provide clear descriptions for the function and for its parameters, as your agent depends on them to correctly orchestrate the tasks to be executed"
   ]
  },
  {
   "cell_type": "code",
   "execution_count": null,
   "id": "bc151a11",
   "metadata": {
    "pycharm": {
     "name": "#%%\n"
    }
   },
   "outputs": [],
   "source": [
    "functions_def = [\n",
    "    {\n",
    "        \"name\": \"get_projected_transactions\",\n",
    "        \"description\": \"\"\"Gets the next 3 months transaction data projections\"\"\",\n",
    "        \"parameters\": {\n",
    "            \"user_id\": {\n",
    "                \"description\": \"Unique user identifier\",\n",
    "                \"required\": True,\n",
    "                \"type\": \"string\"\n",
    "            }\n",
    "        }\n",
    "    },\n",
    "    {\n",
    "        \"name\": \"get_historical_transactions\",\n",
    "        \"description\": \"\"\"Gets transaction data history to date\"\"\",\n",
    "        \"parameters\": {\n",
    "            \"user_id\": {\n",
    "                \"description\": \"Unique user identifier\",\n",
    "                \"required\": True,\n",
    "                \"type\": \"string\"\n",
    "            }\n",
    "        }\n",
    "    },\n",
    "    {\n",
    "        \"name\": \"get_transaction_statistics\",\n",
    "        \"description\": \"\"\"Gets current month amount analytics\"\"\",\n",
    "        \"parameters\": {\n",
    "            \"user_id\": {\n",
    "                \"description\": \"Unique user identifier\",\n",
    "                \"required\": True,\n",
    "                \"type\": \"string\"\n",
    "            }\n",
    "        }\n",
    "    },\n",
    "    {\n",
    "        \"name\": \"update_projections\",\n",
    "        \"description\": \"\"\"Updates the financial projections for a specific month\"\"\",\n",
    "        \"parameters\": {\n",
    "            \"user_id\": {\n",
    "                \"description\": \"Unique user identifier\",\n",
    "                \"required\": True,\n",
    "                \"type\": \"string\"\n",
    "            },\n",
    "            \"month\": {\n",
    "                \"description\": \"Target update month. In the format MM\",\n",
    "                \"required\": True,\n",
    "                \"type\": \"integer\"\n",
    "            },\n",
    "            \"year\": {\n",
    "                \"description\": \"Target update year. In the format YYYY\",\n",
    "                \"required\": True,\n",
    "                \"type\": \"integer\"\n",
    "            },\n",
    "            \"amount\": {\n",
    "                \"description\": \"New transactions value\",\n",
    "                \"required\": True,\n",
    "                \"type\": \"integer\"\n",
    "            }\n",
    "        }\n",
    "    }\n",
    "]"
   ]
  },
  {
   "cell_type": "markdown",
   "id": "566ff86c-e2c8-475a-833e-e0bc359c5767",
   "metadata": {
    "pycharm": {
     "name": "#%% md\n"
    }
   },
   "source": [
    "### Creating action group and attaching to the agent\n",
    "Now it's time to add this Lambda function and the function details as an action group for this agent and prepare it."
   ]
  },
  {
   "cell_type": "code",
   "execution_count": null,
   "id": "d45c21c0-7a28-417c-a506-021a57b73596",
   "metadata": {
    "pycharm": {
     "name": "#%%\n"
    }
   },
   "outputs": [],
   "source": [
    "agents.add_action_group_with_lambda(\n",
    "    agent_name=analytics_agent_name,\n",
    "    lambda_function_name=data_analytics_lambda_name,\n",
    "    source_code_file=\"financial_analytics.py\",\n",
    "    agent_functions=functions_def,\n",
    "    agent_action_group_name=\"financial_analytics_actions\",\n",
    "    agent_action_group_description=\"Function to get amount projections for a user \",\n",
    "    dynamo_args=dynamoDB_args\n",
    ")"
   ]
  },
  {
   "cell_type": "markdown",
   "id": "ef82aeae",
   "metadata": {
    "pycharm": {
     "name": "#%% md\n"
    }
   },
   "source": [
    "## Loading data to DynamoDB\n",
    "\n",
    "Now that we've created our agent, let's load some generated data to DynamoDB. That will allow the agent to interact with some live data to perform actions"
   ]
  },
  {
   "cell_type": "code",
   "execution_count": null,
   "id": "d641be11",
   "metadata": {
    "pycharm": {
     "name": "#%%\n"
    }
   },
   "outputs": [],
   "source": [
    "agents.generate_fake_data_dynamodb()"
   ]
  },
  {
   "cell_type": "code",
   "execution_count": null,
   "id": "66ba5e02",
   "metadata": {},
   "outputs": [],
   "source": [
    "with open(\"1_user_sample_data.json\") as f:\n",
    "    table_items = [json.loads(line) for line in f]\n",
    "    \n",
    "agents.load_dynamodb(dynamodb_table, table_items)"
   ]
  },
  {
   "cell_type": "markdown",
   "id": "f572c494",
   "metadata": {
    "pycharm": {
     "name": "#%% md\n"
    }
   },
   "source": [
    "Testing that data was loaded on DynamoDB"
   ]
  },
  {
   "cell_type": "code",
   "execution_count": null,
   "id": "bec38dee",
   "metadata": {
    "pycharm": {
     "name": "#%%\n"
    }
   },
   "outputs": [],
   "source": [
    "today_query = f\"{curr_month.year}/{curr_month.month:02d}/01\"\n",
    "\n",
    "resp = agents.query_dynamodb(\n",
    "    dynamodb_table, dynamodb_pk, '1', dynamodb_sk, today_query\n",
    ")\n",
    "resp"
   ]
  },
  {
   "cell_type": "markdown",
   "id": "fdbc0aff",
   "metadata": {
    "pycharm": {
     "name": "#%% md\n"
    }
   },
   "source": [
    "## Testing Data Analytics Agent\n",
    "\n",
    "Now, let's run some tests on the agent we just created to make sure it's working. To do so we will use our test alias: `TSTALIASID` which allows you to invoke a draft version of your agent"
   ]
  },
  {
   "cell_type": "markdown",
   "id": "07836ff6-1987-4b01-bf86-b8153f2107d4",
   "metadata": {
    "pycharm": {
     "name": "#%% md\n"
    }
   },
   "source": [
    "### Testing get projected transactions\n",
    "First let's test the get projected transactions action"
   ]
  },
  {
   "cell_type": "code",
   "execution_count": null,
   "id": "9b69a4c5",
   "metadata": {
    "pycharm": {
     "name": "#%%\n"
    }
   },
   "outputs": [],
   "source": [
    "%%time\n",
    "response = agents.invoke(\n",
    "    \"\"\"can you show projected transactions for customer with ID 1? \n",
    "    How do they compare with their past transaction data? Customer ID is 1\"\"\", \n",
    "    analytics_agent[0], enable_trace=True\n",
    ")\n",
    "print(\"====================\")\n",
    "print(response)"
   ]
  },
  {
   "cell_type": "code",
   "execution_count": null,
   "id": "b5cedc7c-6da5-4bb6-98aa-5973918e8da4",
   "metadata": {},
   "outputs": [],
   "source": [
    "time.sleep(60)"
   ]
  },
  {
   "cell_type": "markdown",
   "id": "c6ccede9-9257-4935-b71e-8989f1614416",
   "metadata": {
    "pycharm": {
     "name": "#%% md\n"
    }
   },
   "source": [
    "### Testing get historical transactions\n",
    "Now we can test the historical transaction data and also use code interpretation to calculate the average transaction amounts by type"
   ]
  },
  {
   "cell_type": "code",
   "execution_count": null,
   "id": "47f04a92",
   "metadata": {
    "pycharm": {
     "name": "#%%\n"
    }
   },
   "outputs": [],
   "source": [
    "%%time\n",
    "response = agents.invoke(\n",
    "    \"can you show past transaction amounts for customer with ID 1? What is their average spending during summer months?\", \n",
    "    analytics_agent[0], enable_trace=True\n",
    ")\n",
    "print(\"====================\")\n",
    "print(response)"
   ]
  },
  {
   "cell_type": "code",
   "execution_count": null,
   "id": "9766b8af-eba8-4d23-a02b-d486fad0ca6e",
   "metadata": {},
   "outputs": [],
   "source": [
    "time.sleep(60)"
   ]
  },
  {
   "cell_type": "code",
   "execution_count": null,
   "id": "35a74a13",
   "metadata": {},
   "outputs": [],
   "source": [
    "analytics_agent[0]"
   ]
  },
  {
   "cell_type": "markdown",
   "id": "fc24cbce-8b91-40cd-990e-12708c493f10",
   "metadata": {
    "pycharm": {
     "name": "#%% md\n"
    }
   },
   "source": [
    "### Testing knowledge base access\n",
    "Now let's check the knowledge base access by asking a question about financial data analysis"
   ]
  },
  {
   "cell_type": "code",
   "execution_count": null,
   "id": "585a9740",
   "metadata": {
    "pycharm": {
     "name": "#%%\n"
    }
   },
   "outputs": [],
   "source": [
    "%%time\n",
    "response = agents.invoke(\n",
    "    \"What's algorithm used for projections?\", \n",
    "    analytics_agent[0], enable_trace=True\n",
    ")\n",
    "print(\"====================\")\n",
    "print(response)"
   ]
  },
  {
   "cell_type": "code",
   "execution_count": null,
   "id": "2c3192fc-a835-4808-8039-ae97206e1d18",
   "metadata": {},
   "outputs": [],
   "source": [
    "time.sleep(60)"
   ]
  },
  {
   "cell_type": "markdown",
   "id": "af8c67e4-ceb4-4888-b867-a5fd641407c3",
   "metadata": {
    "pycharm": {
     "name": "#%% md\n"
    }
   },
   "source": [
    "### Testing transaction projections update\n",
    "Now we can test the functionality to update the projected transactions"
   ]
  },
  {
   "cell_type": "code",
   "execution_count": null,
   "id": "c8af8180",
   "metadata": {
    "pycharm": {
     "name": "#%%\n"
    }
   },
   "outputs": [],
   "source": [
    "%%time\n",
    "\n",
    "future_2m = curr_month + relativedelta(months=2)\n",
    "future_2m_formatted = future_2m.strftime(\"%Y/%m\")\n",
    "\n",
    "response = agents.invoke(\n",
    "    f\"Can you update projected transactions for month {future_2m_formatted} for customer with ID 1? They will be travelling and their estimate will be 50.\", \n",
    "    analytics_agent[0], enable_trace=True\n",
    ")\n",
    "print(\"====================\")\n",
    "print(response)"
   ]
  },
  {
   "cell_type": "code",
   "execution_count": null,
   "id": "668987d0-6db0-45e5-8915-e7b636987e9f",
   "metadata": {},
   "outputs": [],
   "source": [
    "time.sleep(60)"
   ]
  },
  {
   "cell_type": "markdown",
   "id": "25cc200c-8cd2-4724-8e16-44178dfff2a8",
   "metadata": {
    "pycharm": {
     "name": "#%% md\n"
    }
   },
   "source": [
    "### Confirming that projections was updated\n",
    "After updating our projections, let's check that the projections was updated and plot a new graph"
   ]
  },
  {
   "cell_type": "code",
   "execution_count": null,
   "id": "e75960bb-86a4-45db-9893-f82da30f701c",
   "metadata": {
    "pycharm": {
     "name": "#%%\n"
    }
   },
   "outputs": [],
   "source": [
    "%%time\n",
    "response = agents.invoke(\n",
    "    \"Can you show projected transaction amounts month by month for customer with ID 1?\", \n",
    "    analytics_agent[0], enable_trace=True\n",
    ")\n",
    "print(\"====================\")\n",
    "print(response)"
   ]
  },
  {
   "cell_type": "code",
   "execution_count": null,
   "id": "55b89c9a-2e6d-44fc-88d0-eb76f436ce06",
   "metadata": {},
   "outputs": [],
   "source": [
    "time.sleep(60)"
   ]
  },
  {
   "cell_type": "markdown",
   "id": "97716d35-2f0e-4ae0-8d98-a4cb1e5ea185",
   "metadata": {
    "pycharm": {
     "name": "#%% md\n"
    }
   },
   "source": [
    "### Testing transaction statistics\n",
    "Finally, let's test the transaction statistics functionality"
   ]
  },
  {
   "cell_type": "code",
   "execution_count": null,
   "id": "257bc8f0",
   "metadata": {
    "pycharm": {
     "name": "#%%\n"
    }
   },
   "outputs": [],
   "source": [
    "%%time\n",
    "response = agents.invoke(\n",
    "    \"can you show recent transactions for customer with ID 1?\", \n",
    "    analytics_agent[0], enable_trace=True\n",
    ")\n",
    "print(\"====================\")\n",
    "print(response)"
   ]
  },
  {
   "cell_type": "markdown",
   "id": "cc56c1bf-579f-4337-8352-0903da21ed80",
   "metadata": {
    "pycharm": {
     "name": "#%% md\n"
    }
   },
   "source": [
    "## Create alias\n",
    "\n",
    "As you can see, you can use your agent with the `TSTALIASID` to complete tasks. \n",
    "However, for multi-agents collaboration it is expected that you first test your agent and only use it once it is fully functional. \n",
    "Therefore to use an agent as a sub-agent in a multi-agent collaboration you first need to create an agent alias and connect it to a new version. \n",
    "\n",
    "Since we've tested and validated our agent, let's now create an alias for it:"
   ]
  },
  {
   "cell_type": "code",
   "execution_count": null,
   "id": "eec0d1ca",
   "metadata": {
    "pycharm": {
     "name": "#%%\n"
    }
   },
   "outputs": [],
   "source": [
    "analytics_agent_alias_id, analytics_agent_alias_arn = agents.create_agent_alias(\n",
    "    analytics_agent[0], 'v1'\n",
    ")"
   ]
  },
  {
   "cell_type": "markdown",
   "id": "29db93eb-9a51-48d2-a6ae-a31b7b5ddde1",
   "metadata": {
    "pycharm": {
     "name": "#%% md\n"
    }
   },
   "source": [
    "## Saving information\n",
    "Let's store some environment variables to be used on our next notebooks."
   ]
  },
  {
   "cell_type": "code",
   "execution_count": null,
   "id": "66d40844-c72b-4114-8415-8cefbe65ebb1",
   "metadata": {
    "pycharm": {
     "name": "#%%\n"
    }
   },
   "outputs": [],
   "source": [
    "analytics_agent_arn = agents.get_agent_arn_by_name(analytics_agent_name)\n",
    "analytics_agent_id = analytics_agent[0]\n",
    "data_analytics_kb = knowledge_base_name\n",
    "data_analytics_dynamodb = dynamodb_table\n",
    "\n",
    "%store analytics_agent_arn\n",
    "%store analytics_agent_alias_arn\n",
    "%store analytics_agent_alias_id\n",
    "%store data_analytics_lambda_name\n",
    "%store analytics_agent_name\n",
    "%store analytics_agent_id\n",
    "%store data_analytics_kb\n",
    "%store data_analytics_dynamodb"
   ]
  },
  {
   "cell_type": "code",
   "execution_count": null,
   "id": "99986c91",
   "metadata": {
    "pycharm": {
     "name": "#%%\n"
    }
   },
   "outputs": [],
   "source": [
    "analytics_agent_arn, analytics_agent_alias_arn, analytics_agent_alias_id"
   ]
  },
  {
   "cell_type": "markdown",
   "id": "3453da42-a05c-421d-944e-281d056bdf43",
   "metadata": {
    "pycharm": {
     "name": "#%% md\n"
    }
   },
   "source": [
    "## Next Steps\n",
    "Congratulations! We've now created a data analytics agent. Next we will create our user insights agent"
   ]
  }
 ],
 "metadata": {
  "kernelspec": {
   "display_name": "Python 3",
   "language": "python",
   "name": "python3"
  },
  "language_info": {
   "codemirror_mode": {
    "name": "ipython",
    "version": 3
   },
   "file_extension": ".py",
   "mimetype": "text/x-python",
   "name": "python",
   "nbconvert_exporter": "python",
   "pygments_lexer": "ipython3",
   "version": "3.12.8"
  }
 },
 "nbformat": 4,
 "nbformat_minor": 5
}