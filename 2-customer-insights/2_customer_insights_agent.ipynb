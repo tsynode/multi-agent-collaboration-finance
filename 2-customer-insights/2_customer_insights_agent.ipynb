{
 "cells": [
  {
   "cell_type": "markdown",
   "id": "fb8d63a2-913e-498a-a01a-5e66a39bf3e7",
   "metadata": {
    "pycharm": {
     "name": "#%% md\n"
    }
   },
   "source": [
    "# Lab 2. Customer Insights Agent for Financial Visualization Explanation"
   ]
  },
  {
   "cell_type": "markdown",
   "id": "63678eaa-8830-4cbe-94af-5ebd8b0e03e0",
   "metadata": {
    "pycharm": {
     "name": "#%% md\n"
    }
   },
   "source": [
    "## Introduction\n",
    "\n",
    "In this notebook we show you how to create your second sub-agent on Amazon Bedrock Agents.\n",
    "\n",
    "This agent helps bank operators understand and explain financial data visualizations to their customers. It analyzes the underlying data of existing visualizations and provides clear, insightful explanations that bank operators can share with customers.\n",
    "\n",
    "To equip foundation models (FMs) with up-to-date and proprietary information, organizations use Retrieval Augmented Generation (RAG), a technique that fetches data from company data sources and enriches the prompt to provide more relevant and accurate responses. \n",
    "\n",
    "Amazon Bedrock Knowledge Bases is Bedrock's fully managed capability that helps you implement the entire RAG workflow from ingestion to retrieval and prompt augmentation without having to build custom integrations to data sources and manage data flows.\n",
    "\n",
    "In the context of our agent, if a visualization is too complex to explain, bank operators can ask the agent to create a support ticket, to get a human financial advisor to help with more detailed explanations.\n",
    "\n",
    "The following represents the piece of architecture that will be built on this module.\n",
    "\n",
    "![Architecture](img/customer_insights_agent.png)"
   ]
  },
  {
   "cell_type": "markdown",
   "id": "b3ba49fa-3293-4ea6-8dee-fb9f410c6481",
   "metadata": {
    "pycharm": {
     "name": "#%% md\n"
    }
   },
   "source": [
    "## Setup"
   ]
  },
  {
   "cell_type": "markdown",
   "id": "7b76edd4",
   "metadata": {
    "pycharm": {
     "name": "#%% md\n"
    }
   },
   "source": [
    "Make sure that your boto3 version is the latest\n",
    "\n",
    "If not, return to [notebook 1](../1-data-analytics/1_data_analytics_agent.ipynb) and run the Setup block again."
   ]
  },
  {
   "cell_type": "code",
   "execution_count": null,
   "id": "20b72889",
   "metadata": {
    "pycharm": {
     "name": "#%%\n"
    }
   },
   "outputs": [],
   "source": [
    "!pip freeze | grep boto3"
   ]
  },
  {
   "cell_type": "markdown",
   "id": "0ebbad5c",
   "metadata": {},
   "source": [
    "Get your workshop ID / resource suffix. If not found, return to [notebook 1](../1-data-analytics/1_data_analytics_agent.ipynb) and run the Setup block again."
   ]
  },
  {
   "cell_type": "code",
   "execution_count": null,
   "id": "c019569b",
   "metadata": {},
   "outputs": [],
   "source": [
    "import os\n",
    "\n",
    "def get_workshop_id():\n",
    "    workshop_id_file = '../.workshop_id'\n",
    "    if os.path.exists(workshop_id_file):\n",
    "        with open(workshop_id_file, 'r') as f:\n",
    "            return f.read().strip()\n",
    "    else:\n",
    "        return None\n",
    "    \n",
    "workshop_id = get_workshop_id()\n",
    "resource_suffix = f\"{workshop_id}\"\n",
    "\n",
    "if workshop_id is None:\n",
    "    print(\"No workshop ID found. Please run the Setup script in notebook 1.\")\n",
    "else:\n",
    "    print(\"Your resource suffix is\", resource_suffix)"
   ]
  },
  {
   "cell_type": "markdown",
   "id": "ccf37dd5-bfaf-4563-a6ad-f9d7637c6e43",
   "metadata": {
    "pycharm": {
     "name": "#%% md\n"
    }
   },
   "source": [
    "## Creating Agent\n",
    "\n",
    "On this section we declare global variables that will be act as helpers during entire notebook and we will start to create our second agent."
   ]
  },
  {
   "cell_type": "code",
   "execution_count": null,
   "id": "277a742a-5f17-4dfc-ac36-1b70ce8f4f7d",
   "metadata": {
    "pycharm": {
     "name": "#%%\n"
    }
   },
   "outputs": [],
   "source": [
    "import boto3\n",
    "import os\n",
    "\n",
    "from datetime import datetime\n",
    "from dateutil.relativedelta import relativedelta\n",
    "import json\n",
    "import time\n",
    "\n",
    "account_id = boto3.client('sts').get_caller_identity().get('Account')\n",
    "\n",
    "agent_foundation_model = [\n",
    "    'anthropic.claude-3-haiku-20240307-v1:0',\n",
    "    'anthropic.claude-3-sonnet-20240229-v1:0',\n",
    "    'anthropic.claude-3-5-sonnet-20240620-v1:0'\n",
    "]"
   ]
  },
  {
   "cell_type": "code",
   "execution_count": null,
   "id": "a27cc6c8-4faa-4adc-90c8-7ace112877e1",
   "metadata": {
    "pycharm": {
     "name": "#%%\n"
    }
   },
   "outputs": [],
   "source": [
    "curr_month = datetime.today().replace(day=1, hour=0, minute=0, second=0, microsecond=0)\n",
    "\n",
    "insights_agent_name = f\"insights-{resource_suffix}\"\n",
    "\n",
    "insights_lambda_name = f\"fn-insights-agent-{resource_suffix}\"\n",
    "\n",
    "insights_agent_role_name = f'AmazonBedrockExecutionRoleForAgents_{insights_agent_name}'\n",
    "\n",
    "dynamodb_table = f\"{insights_agent_name}-table\"\n",
    "dynamodb_pk = \"customer_id\"\n",
    "dynamodb_sk = \"ticket_id\"\n",
    "\n",
    "dynamoDB_args = [dynamodb_table, dynamodb_pk, dynamodb_sk]\n",
    "\n",
    "knowledge_base_name = f'{insights_agent_name}-kb'\n",
    "\n",
    "knowledge_base_description = \"KB containing information on financial visualization explanation\"\n",
    "bucket_name = f'insights-kb-{account_id}-{resource_suffix}'"
   ]
  },
  {
   "cell_type": "markdown",
   "id": "5b41a37c",
   "metadata": {
    "pycharm": {
     "name": "#%% md\n"
    }
   },
   "source": [
    "### Importing helper functions\n",
    "\n",
    "Let's import the helper functions that we'll use to create our agent. These functions are defined in the `utils` directory and include:\n",
    "\n",
    "- `create_agent`: Create a new agent on Amazon Bedrock.\n",
    "- `create_knowledge_base`: Create a new knowledge base on Amazon Bedrock.\n",
    "- `create_s3_bucket`: Create a new S3 bucket to store the knowledge base documents.\n",
    "- `upload_to_s3`: Upload files to S3.\n",
    "- `synchronize_data`: Read files on S3, convert text info into vectors and add that information on Vector Database."
   ]
  },
  {
   "cell_type": "code",
   "execution_count": null,
   "id": "de912e83-e8c1-4bd7-adb7-9ad232e13b56",
   "metadata": {
    "pycharm": {
     "name": "#%%\n"
    }
   },
   "outputs": [],
   "source": [
    "import sys\n",
    "\n",
    "sys.path.insert(0, \".\")\n",
    "sys.path.insert(1, \"..\")\n",
    "\n",
    "from utils.bedrock_agent_helper import (\n",
    "    AgentsForAmazonBedrock\n",
    ")\n",
    "from utils.knowledge_base_helper import (\n",
    "    KnowledgeBasesForAmazonBedrock\n",
    ")\n",
    "agents = AgentsForAmazonBedrock()\n",
    "kb = KnowledgeBasesForAmazonBedrock()"
   ]
  },
  {
   "cell_type": "markdown",
   "id": "eb1d898b",
   "metadata": {
    "pycharm": {
     "name": "#%% md\n"
    }
   },
   "source": [
    "## Creating Knowledge Base\n",
    "\n",
    "Next we will create a knowledge base with information about financial visualization explanation. This knowledge base will help our agent provide better explanations for different types of financial visualizations.\n",
    "\n",
    "In the next steps we will generate the data used to populate the knowledge base. It will be composed of guidelines for explaining financial visualizations to customers.\n",
    "\n",
    "**This creation process takes several minutes.**"
   ]
  },
  {
   "cell_type": "code",
   "execution_count": null,
   "id": "040e3a76",
   "metadata": {
    "pycharm": {
     "name": "#%%\n"
    }
   },
   "outputs": [],
   "source": [
    "%%time\n",
    "kb_id, ds_id = kb.create_or_retrieve_knowledge_base(\n",
    "    knowledge_base_name,\n",
    "    knowledge_base_description,\n",
    "    bucket_name\n",
    ")\n",
    "\n",
    "print(f\"Knowledge Base ID: {kb_id}\")\n",
    "print(f\"Data Source ID: {ds_id}\")"
   ]
  },
  {
   "cell_type": "markdown",
   "id": "154d8537",
   "metadata": {
    "pycharm": {
     "name": "#%% md\n"
    }
   },
   "source": [
    "## Create Knowledge Base Documents\n",
    "\n",
    "Instead of get data elsewhere, you're going to generate data, using a LLM on Amazon Bedrock.\n",
    "This fake data that will be generated, will be uploaded into a S3 bucket and then added into an Amazon Bedrock Knowledge Base."
   ]
  },
  {
   "cell_type": "code",
   "execution_count": null,
   "id": "f9c9b44c",
   "metadata": {
    "pycharm": {
     "name": "#%%\n"
    }
   },
   "outputs": [],
   "source": [
    "path = \"kb_documents\"\n",
    "\n",
    "# Check whether the specified path exists or not\n",
    "is_exist = os.path.exists(path)\n",
    "if not is_exist:\n",
    "   # Create a new directory if it does not exist\n",
    "   os.makedirs(path)\n",
    "   print(\"The {} directory was created!\".format(path))\n",
    "else:\n",
    "   print(\"The {} directory already exists!\".format(path))"
   ]
  },
  {
   "cell_type": "markdown",
   "id": "eb952b08",
   "metadata": {
    "pycharm": {
     "name": "#%% md\n"
    }
   },
   "source": [
    "Creating helper methods to invoke LLM on Bedrock and to write a local file using Python"
   ]
  },
  {
   "cell_type": "code",
   "execution_count": null,
   "id": "89384886",
   "metadata": {
    "pycharm": {
     "name": "#%%\n"
    }
   },
   "outputs": [],
   "source": [
    "def invoke_bedrock_generate_finance_files(prompt):\n",
    "    bedrock_runtime = boto3.client(service_name='bedrock-runtime')\n",
    "    \n",
    "    body = json.dumps({\n",
    "        \"anthropic_version\": \"bedrock-2023-05-31\",\n",
    "        \"max_tokens\": 4096,\n",
    "        \"messages\": [\n",
    "            {\n",
    "                \"role\": \"user\",\n",
    "                \"content\": [\n",
    "                    {\n",
    "                        \"type\": \"text\",\n",
    "                        \"text\": prompt\n",
    "                    }\n",
    "                ]\n",
    "            }\n",
    "        ]\n",
    "    })\n",
    "    \n",
    "    modelId = 'anthropic.claude-3-sonnet-20240229-v1'\n",
    "    accept = 'application/json'\n",
    "    contentType = 'application/json'\n",
    "    \n",
    "    response = bedrock_runtime.invoke_model(\n",
    "        body=body, modelId=modelId, accept=accept, contentType=contentType\n",
    "    )\n",
    "    \n",
    "    response_body = json.loads(response.get('body').read())\n",
    "    \n",
    "    return response_body['content'][0]['text']\n",
    "\n",
    "def write_file(file_name, content):\n",
    "    f = open(file_name, \"w\")\n",
    "    f.write(content)\n",
    "    f.close"
   ]
  },
  {
   "cell_type": "markdown",
   "id": "c3cd11d3",
   "metadata": {
    "pycharm": {
     "name": "#%% md\n"
    }
   },
   "source": [
    "Generating a file with information on financial visualization explanation."
   ]
  },
  {
   "cell_type": "code",
   "execution_count": null,
   "id": "89384887",
   "metadata": {
    "pycharm": {
     "name": "#%%\n"
    }
   },
   "outputs": [],
   "source": [
    "# We already have the knowledge base document prepared\n",
    "print(\"Using existing knowledge base document: kb_documents/customer-insights-info.txt\")"
   ]
  },
  {
   "cell_type": "code",
   "execution_count": null,
   "id": "89384888",
   "metadata": {
    "pycharm": {
     "name": "#%%\n"
    }
   },
   "outputs": [],
   "source": [
    "%%time\n",
    "kb.upload_documents_to_s3(\n",
    "    bucket_name,\n",
    "    \"kb_documents/customer-insights-info.txt\"\n",
    ")"
   ]
  },
  {
   "cell_type": "code",
   "execution_count": null,
   "id": "89384889",
   "metadata": {
    "pycharm": {
     "name": "#%%\n"
    }
   },
   "outputs": [],
   "source": [
    "%%time\n",
    "kb.synchronize_data(ds_id)"
   ]
  },
  {
   "cell_type": "markdown",
   "id": "89384890",
   "metadata": {
    "pycharm": {
     "name": "#%% md\n"
    }
   },
   "source": [
    "## Creating the Customer Insights Agent\n",
    "\n",
    "Now we'll create the Customer Insights Agent that will help bank operators explain financial visualizations to their customers."
   ]
  },
  {
   "cell_type": "code",
   "execution_count": null,
   "id": "89384891",
   "metadata": {
    "pycharm": {
     "name": "#%%\n"
    }
   },
   "outputs": [],
   "source": [
    "%%time\n",
    "insights_agent = agents.create_agent(\n",
    "    insights_agent_name,\n",
    "    \"Customer Insights Agent for Financial Visualization Explanation\",\n",
    "    agent_foundation_model[0],\n",
    "    \"agent_prompt.txt\",\n",
    "    insights_agent_role_name\n",
    ")"
   ]
  },
  {
   "cell_type": "markdown",
   "id": "89384892",
   "metadata": {
    "pycharm": {
     "name": "#%% md\n"
    }
   },
   "source": [
    "### Associate Knowledge Base with Agent\n",
    "\n",
    "Now we'll associate the knowledge base with the agent so it can access information about financial visualization explanation."
   ]
  },
  {
   "cell_type": "code",
   "execution_count": null,
   "id": "89384893",
   "metadata": {
    "pycharm": {
     "name": "#%%\n"
    }
   },
   "outputs": [],
   "source": [
    "%%time\n",
    "agents.associate_kb_with_agent(\n",
    "    insights_agent[0],\n",
    "    kb_id,\n",
    "    \"Financial visualization explanation knowledge base\",\n",
    "    \"Contains information about how to explain different types of financial visualizations\"\n",
    ")"
   ]
  },
  {
   "cell_type": "markdown",
   "id": "89384894",
   "metadata": {
    "pycharm": {
     "name": "#%% md\n"
    }
   },
   "source": [
    "### Create Lambda Function for Agent Actions\n",
    "\n",
    "In order to enable the agent to execute tasks, we will create an AWS Lambda function that implements the tasks execution. We will then provide this lambda function to the agent action group."
   ]
  },
  {
   "cell_type": "code",
   "execution_count": null,
   "id": "89384895",
   "metadata": {
    "pycharm": {
     "name": "#%%\n"
    }
   },
   "outputs": [],
   "source": [
    "%%time\n",
    "%%writefile customer_insights.py\n",
    "# This file is already created separately"
   ]
  },
  {
   "cell_type": "code",
   "execution_count": null,
   "id": "89384896",
   "metadata": {
    "pycharm": {
     "name": "#%%\n"
    }
   },
   "outputs": [],
   "source": [
    "%%time\n",
    "insights_lambda_arn = agents.create_lambda_function(\n",
    "    insights_lambda_name,\n",
    "    \"customer_insights.py\",\n",
    "    dynamoDB_args\n",
    ")"
   ]
  },
  {
   "cell_type": "markdown",
   "id": "89384897",
   "metadata": {
    "pycharm": {
     "name": "#%% md\n"
    }
   },
   "source": [
    "### Define Agent Actions\n",
    "\n",
    "Next we will define the available actions that an agent can perform using Function Details. These actions will allow the agent to explain different types of financial visualizations and recommend financial products."
   ]
  },
  {
   "cell_type": "code",
   "execution_count": null,
   "id": "89384898",
   "metadata": {
    "pycharm": {
     "name": "#%%\n"
    }
   },
   "outputs": [],
   "source": [
    "%%time\n",
    "agents.add_action_group_with_lambda(\n",
    "    insights_agent[0],\n",
    "    \"agent_api_definition.json\",\n",
    "    insights_lambda_arn\n",
    ")"
   ]
  },
  {
   "cell_type": "markdown",
   "id": "89384899",
   "metadata": {
    "pycharm": {
     "name": "#%% md\n"
    }
   },
   "source": [
    "## Loading Sample Visualization Data\n",
    "\n",
    "Now that we've created our agent, let's load some sample visualization data that the agent can explain."
   ]
  },
  {
   "cell_type": "code",
   "execution_count": null,
   "id": "89384900",
   "metadata": {
    "pycharm": {
     "name": "#%%\n"
    }
   },
   "outputs": [],
   "source": [
    "# We already have the sample data prepared\n",
    "print(\"Using existing sample visualization data: 2_user_sample_data.json\")\n",
    "\n",
    "with open(\"2_user_sample_data.json\") as f:\n",
    "    visualizations = json.load(f)\n",
    "    \n",
    "print(f\"Loaded {len(visualizations)} sample visualizations\")"
   ]
  },
  {
   "cell_type": "markdown",
   "id": "testing-header",
   "metadata": {},
   "source": [
    "## Visualizing and Testing the Customer Insights Agent\n",
    "\n",
    "Now that we've created our agent, let's visualize the sample data and test how the agent explains each visualization."
   ]
  },
  {
   "cell_type": "markdown",
   "id": "viz-markdown-1",
   "metadata": {},
   "source": [
    "## Visualizing the Sample Data\n",
    "\n",
    "Before testing our agent, let's visualize the sample data to better understand what the agent will be explaining."
   ]
  },
  {
   "cell_type": "code",
   "execution_count": null,
   "id": "viz-code-1",
   "metadata": {},
   "outputs": [],
   "source": [
    "# Install matplotlib if not already installed\n",
    "!pip install matplotlib"
   ]
  },
  {
   "cell_type": "code",
   "execution_count": null,
   "id": "viz-code-2",
   "metadata": {},
   "outputs": [],
   "source": [
    "import matplotlib.pyplot as plt\n",
    "import numpy as np\n",
    "from matplotlib.ticker import FuncFormatter\n",
    "\n",
    "# Function to format y-axis as currency\n",
    "def currency_formatter(x, pos):\n",
    "    return f'${int(x):,}'\n",
    "\n",
    "# Set style for all plots\n",
    "plt.style.use('ggplot')\n",
    "formatter = FuncFormatter(currency_formatter)"
   ]
  },
  {
   "cell_type": "markdown",
   "id": "viz-markdown-2",
   "metadata": {},
   "source": [
    "### 1. Spending Trend Visualization\n",
    "\n",
    "This visualization shows the customer's spending trend over a 6-month period."
   ]
  },
  {
   "cell_type": "code",
   "execution_count": null,
   "id": "viz-code-3",
   "metadata": {},
   "outputs": [],
   "source": [
    "# Extract spending trend data\n",
    "spending_trend = visualizations[0]\n",
    "months = [point['month'].split('/')[1] for point in spending_trend['data_points']]\n",
    "amounts = [point['amount'] for point in spending_trend['data_points']]\n",
    "\n",
    "# Create the spending trend line chart\n",
    "fig, ax = plt.subplots(figsize=(10, 6))\n",
    "ax.plot(months, amounts, marker='o', linewidth=2, markersize=8)\n",
    "ax.set_title(spending_trend['metadata']['chart_title'], fontsize=16)\n",
    "ax.set_xlabel(spending_trend['metadata']['x_axis_label'], fontsize=12)\n",
    "ax.set_ylabel(spending_trend['metadata']['y_axis_label'], fontsize=12)\n",
    "ax.yaxis.set_major_formatter(formatter)\n",
    "ax.grid(True, linestyle='--', alpha=0.7)\n",
    "\n",
    "# Add annotations for key points\n",
    "max_point = max(amounts)\n",
    "max_idx = amounts.index(max_point)\n",
    "ax.annotate(f'${max_point}', \n",
    "            xy=(months[max_idx], max_point), \n",
    "            xytext=(0, 15),\n",
    "            textcoords='offset points',\n",
    "            ha='center',\n",
    "            arrowprops=dict(arrowstyle='->', connectionstyle='arc3,rad=0.2'))\n",
    "\n",
    "plt.tight_layout()\n",
    "plt.savefig('img/spending_trend.png')\n",
    "plt.show()"
   ]
  },
  {
   "cell_type": "code",
   "execution_count": null,
   "id": "viz-code-4",
   "metadata": {},
   "outputs": [],
   "source": [
    "# Extract category data\n",
    "categories = [cat['name'] for cat in spending_trend['categories']]\n",
    "percentages = [cat['percentage'] for cat in spending_trend['categories']]\n",
    "\n",
    "# Create the spending by category pie chart\n",
    "fig, ax = plt.subplots(figsize=(10, 8))\n",
    "wedges, texts, autotexts = ax.pie(percentages, \n",
    "                                  autopct='%1.1f%%',\n",
    "                                  textprops=dict(color=\"w\"),\n",
    "                                  startangle=90)\n",
    "\n",
    "# Draw a circle at the center to make it a donut chart\n",
    "centre_circle = plt.Circle((0,0), 0.70, fc='white')\n",
    "fig.gca().add_artist(centre_circle)\n",
    "\n",
    "# Equal aspect ratio ensures that pie is drawn as a circle\n",
    "ax.axis('equal')  \n",
    "ax.set_title('Spending by Category', fontsize=16)\n",
    "\n",
    "# Add legend\n",
    "ax.legend(wedges, categories, title=\"Categories\", loc=\"center left\", bbox_to_anchor=(1, 0, 0.5, 1))\n",
    "\n",
    "plt.tight_layout()\n",
    "plt.savefig('img/spending_categories.png')\n",
    "plt.show()"
   ]
  },
  {
   "cell_type": "markdown",
   "id": "spending-test-transition",
   "metadata": {},
   "source": [
    "Now let's see how our Customer Insights Agent explains this spending trend visualization:"
   ]
  },
  {
   "cell_type": "code",
   "execution_count": null,
   "id": "89384903",
   "metadata": {
    "pycharm": {
     "name": "#%%\n"
    }
   },
   "outputs": [],
   "source": [
    "%%time\n",
    "spending_trend_data = json.dumps(visualizations[0])\n",
    "response = agents.invoke(\n",
    "    f\"Explain this spending trend visualization for customer with ID 1: {spending_trend_data}\", \n",
    "    insights_agent[0], enable_trace=True\n",
    ")\n",
    "print(\"====================\")\n",
    "print(response)"
   ]
  },
  {
   "cell_type": "markdown",
   "id": "viz-markdown-4",
   "metadata": {},
   "source": [
    "### 2. Investment Allocation Visualization\n",
    "\n",
    "This visualization shows how the customer's investments are allocated across different asset classes."
   ]
  },
  {
   "cell_type": "code",
   "execution_count": null,
   "id": "viz-code-5",
   "metadata": {},
   "outputs": [],
   "source": [
    "# Extract investment allocation data\n",
    "investment = visualizations[1]\n",
    "asset_classes = [asset['asset_class'] for asset in investment['data_points']]\n",
    "percentages = [asset['percentage'] for asset in investment['data_points']]\n",
    "\n",
    "# Create the investment allocation pie chart\n",
    "fig, ax = plt.subplots(figsize=(10, 8))\n",
    "\n",
    "# Use custom colors for different asset classes\n",
    "colors = ['#ff9999','#66b3ff','#99ff99','#ffcc99']\n",
    "wedges, texts, autotexts = ax.pie(percentages, \n",
    "                                  colors=colors,\n",
    "                                  autopct='%1.1f%%',\n",
    "                                  textprops=dict(color=\"k\"),\n",
    "                                  startangle=90)\n",
    "\n",
    "# Equal aspect ratio ensures that pie is drawn as a circle\n",
    "ax.axis('equal')  \n",
    "ax.set_title(investment['metadata']['chart_title'], fontsize=16)\n",
    "\n",
    "# Add legend\n",
    "ax.legend(wedges, asset_classes, title=\"Asset Classes\", loc=\"center left\", bbox_to_anchor=(1, 0, 0.5, 1))\n",
    "\n",
    "plt.tight_layout()\n",
    "plt.savefig('img/investment_allocation.png')\n",
    "plt.show()"
   ]
  },
  {
   "cell_type": "markdown",
   "id": "investment-test-transition",
   "metadata": {},
   "source": [
    "Now let's see how our Customer Insights Agent explains this investment allocation visualization:"
   ]
  },
  {
   "cell_type": "code",
   "execution_count": null,
   "id": "89384905",
   "metadata": {
    "pycharm": {
     "name": "#%%\n"
    }
   },
   "outputs": [],
   "source": [
    "%%time\n",
    "investment_allocation_data = json.dumps(visualizations[1])\n",
    "response = agents.invoke(\n",
    "    f\"What does this investment allocation chart show for customer with ID 1? {investment_allocation_data}\", \n",
    "    insights_agent[0], enable_trace=True\n",
    ")\n",
    "print(\"====================\")\n",
    "print(response)"
   ]
  },
  {
   "cell_type": "markdown",
   "id": "viz-markdown-5",
   "metadata": {},
   "source": [
    "### 3. Cash Flow Visualization\n",
    "\n",
    "This visualization compares income and expenses over a 3-month period."
   ]
  },
  {
   "cell_type": "code",
   "execution_count": null,
   "id": "viz-code-6",
   "metadata": {},
   "outputs": [],
   "source": [
    "# Extract cash flow data\n",
    "cash_flow = visualizations[2]\n",
    "months = [point['month'].split('/')[1] for point in cash_flow['data_points']]\n",
    "income = [point['income'] for point in cash_flow['data_points']]\n",
    "expenses = [point['expenses'] for point in cash_flow['data_points']]\n",
    "\n",
    "# Set width of bars\n",
    "barWidth = 0.35\n",
    "r1 = np.arange(len(months))\n",
    "r2 = [x + barWidth for x in r1]\n",
    "\n",
    "# Create the cash flow bar chart\n",
    "fig, ax = plt.subplots(figsize=(10, 6))\n",
    "ax.bar(r1, income, width=barWidth, label='Income', color='#5cb85c')\n",
    "ax.bar(r2, expenses, width=barWidth, label='Expenses', color='#d9534f')\n",
    "\n",
    "# Add labels and title\n",
    "ax.set_title(cash_flow['metadata']['chart_title'], fontsize=16)\n",
    "ax.set_xlabel(cash_flow['metadata']['x_axis_label'], fontsize=12)\n",
    "ax.set_ylabel(cash_flow['metadata']['y_axis_label'], fontsize=12)\n",
    "ax.set_xticks([r + barWidth/2 for r in range(len(months))])\n",
    "ax.set_xticklabels(months)\n",
    "ax.yaxis.set_major_formatter(formatter)\n",
    "\n",
    "# Add net cash flow values above the bars\n",
    "for i in range(len(months)):\n",
    "    net = income[i] - expenses[i]\n",
    "    color = 'green' if net >= 0 else 'red'\n",
    "    ax.annotate(f'Net: ${net}', \n",
    "                xy=((r1[i] + r2[i])/2, max(income[i], expenses[i]) + 200),\n",
    "                ha='center',\n",
    "                va='bottom',\n",
    "                color=color,\n",
    "                fontweight='bold')\n",
    "\n",
    "# Add legend\n",
    "ax.legend()\n",
    "\n",
    "plt.tight_layout()\n",
    "plt.savefig('img/cash_flow.png')\n",
    "plt.show()"
   ]
  },
  {
   "cell_type": "markdown",
   "id": "cash-flow-test-transition",
   "metadata": {},
   "source": [
    "Now let's see how our Customer Insights Agent explains this cash flow visualization:"
   ]
  },
  {
   "cell_type": "code",
   "execution_count": null,
   "id": "89384907",
   "metadata": {
    "pycharm": {
     "name": "#%%\n"
    }
   },
   "outputs": [],
   "source": [
    "%%time\n",
    "cash_flow_data = json.dumps(visualizations[2])\n",
    "response = agents.invoke(\n",
    "    f\"Explain this cash flow visualization for customer with ID 2: {cash_flow_data}\", \n",
    "    insights_agent[0], enable_trace=True\n",
    ")\n",
    "print(\"====================\")\n",
    "print(response)"
   ]
  },
  {
   "cell_type": "markdown",
   "id": "viz-markdown-6",
   "metadata": {},
   "source": [
    "### 4. Budget Performance Visualization\n",
    "\n",
    "This visualization compares planned versus actual spending across different categories."
   ]
  },
  {
   "cell_type": "code",
   "execution_count": null,
   "id": "viz-code-7",
   "metadata": {},
   "outputs": [],
   "source": [
    "# Extract budget performance data\n",
    "budget = visualizations[3]\n",
    "categories = [item['category'] for item in budget['data_points']]\n",
    "planned = [item['planned'] for item in budget['data_points']]\n",
    "actual = [item['actual'] for item in budget['data_points']]\n",
    "\n",
    "# Set width of bars\n",
    "barWidth = 0.35\n",
    "r1 = np.arange(len(categories))\n",
    "r2 = [x + barWidth for x in r1]\n",
    "\n",
    "# Create the budget performance bar chart\n",
    "fig, ax = plt.subplots(figsize=(12, 6))\n",
    "ax.bar(r1, planned, width=barWidth, label='Planned', color='#5bc0de')\n",
    "ax.bar(r2, actual, width=barWidth, label='Actual', color='#f0ad4e')\n",
    "\n",
    "# Add labels and title\n",
    "ax.set_title(budget['metadata']['chart_title'], fontsize=16)\n",
    "ax.set_xlabel(budget['metadata']['x_axis_label'], fontsize=12)\n",
    "ax.set_ylabel(budget['metadata']['y_axis_label'], fontsize=12)\n",
    "ax.set_xticks([r + barWidth/2 for r in range(len(categories))])\n",
    "ax.set_xticklabels(categories)\n",
    "ax.yaxis.set_major_formatter(formatter)\n",
    "\n",
    "# Add variance percentages above the bars\n",
    "for i in range(len(categories)):\n",
    "    variance = ((actual[i] - planned[i]) / planned[i]) * 100\n",
    "    color = 'red' if variance > 0 else 'green'\n",
    "    ax.annotate(f'{variance:.1f}%', \n",
    "                xy=((r1[i] + r2[i])/2, max(planned[i], actual[i]) + 50),\n",
    "                ha='center',\n",
    "                va='bottom',\n",
    "                color=color,\n",
    "                fontweight='bold')\n",
    "\n",
    "# Add legend\n",
    "ax.legend()\n",
    "\n",
    "plt.tight_layout()\n",
    "plt.savefig('img/budget_performance.png')\n",
    "plt.show()"
   ]
  },
  {
   "cell_type": "markdown",
   "id": "budget-test-transition",
   "metadata": {},
   "source": [
    "Now let's see how our Customer Insights Agent explains this budget performance visualization:"
   ]
  },
  {
   "cell_type": "code",
   "execution_count": null,
   "id": "89384909",
   "metadata": {
    "pycharm": {
     "name": "#%%\n"
    }
   },
   "outputs": [],
   "source": [
    "%%time\n",
    "budget_performance_data = json.dumps(visualizations[3])\n",
    "response = agents.invoke(\n",
    "    f\"What does this budget performance visualization tell us about customer with ID 3? {budget_performance_data}\", \n",
    "    insights_agent[0], enable_trace=True\n",
    ")\n",
    "print(\"====================\")\n",
    "print(response)"
   ]
  },
  {
   "cell_type": "markdown",
   "id": "additional-capabilities",
   "metadata": {},
   "source": [
    "## Testing Additional Agent Capabilities\n",
    "\n",
    "Beyond explaining visualizations, our Customer Insights Agent can also recommend financial products and manage support tickets."
   ]
  },
  {
   "cell_type": "markdown",
   "id": "support-ticket-create-header",
   "metadata": {},
   "source": [
    "### Testing Support Ticket Creation\n",
    "\n",
    "Let's test the agent's ability to create a support ticket for visualization explanation assistance."
   ]
  },
  {
   "cell_type": "code",
   "execution_count": null,
   "id": "89384913",
   "metadata": {
    "pycharm": {
     "name": "#%%\n"
    }
   },
   "outputs": [],
   "source": [
    "%%time\n",
    "response = agents.invoke(\n",
    "    \"I need help understanding a complex visualization for customer with ID 1. Can you create a support ticket?\", \n",
    "    insights_agent[0], enable_trace=True\n",
    ")\n",
    "print(\"====================\")\n",
    "print(response)"
   ]
  },
  {
   "cell_type": "markdown",
   "id": "support-ticket-get-header",
   "metadata": {},
   "source": [
    "### Testing Support Ticket Retrieval\n",
    "\n",
    "Let's test the agent's ability to retrieve support tickets for a customer."
   ]
  },
  {
   "cell_type": "code",
   "execution_count": null,
   "id": "89384915",
   "metadata": {
    "pycharm": {
     "name": "#%%\n"
    }
   },
   "outputs": [],
   "source": [
    "%%time\n",
    "response = agents.invoke(\n",
    "    \"Can I get all tickets that I have? My customer id is 1\", \n",
    "    insights_agent[0], enable_trace=True\n",
    ")\n",
    "print(\"====================\")\n",
    "print(response)"
   ]
  },
  {
   "cell_type": "markdown",
   "id": "89384916",
   "metadata": {
    "pycharm": {
     "name": "#%% md\n"
    }
   },
   "source": [
    "## Create Agent Alias\n",
    "\n",
    "As you can see, you can use your agent with the `TSTALIASID` to complete tasks. \n",
    "However, for multi-agents collaboration it is expected that you first test your agent and only use it once it is fully functional. \n",
    "Therefore to use an agent as a sub-agent in a multi-agent collaboration you first need to create an agent alias and connect it to a new version. \n",
    "\n",
    "Since we've tested and validated our agent, let's now create an alias for it:"
   ]
  },
  {
   "cell_type": "code",
   "execution_count": null,
   "id": "89384917",
   "metadata": {
    "pycharm": {
     "name": "#%%\n"
    }
   },
   "outputs": [],
   "source": [
    "insights_agent_alias_id, insights_agent_alias_arn = agents.create_agent_alias(\n",
    "    insights_agent[0], 'v1'\n",
    ")\n",
    "insights_agent_id = insights_agent[0]"
   ]
  },
  {
   "cell_type": "markdown",
   "id": "89384918",
   "metadata": {
    "pycharm": {
     "name": "#%% md\n"
    }
   },
   "source": [
    "Store environment variables to be used on next notebooks."
   ]
  },
  {
   "cell_type": "code",
   "execution_count": null,
   "id": "89384919",
   "metadata": {
    "pycharm": {
     "name": "#%%\n"
    }
   },
   "outputs": [],
   "source": [
    "insights_agent_arn = agents.get_agent_arn_by_name(insights_agent_name)\n",
    "insights_kb = knowledge_base_name\n",
    "insights_dynamodb = dynamodb_table\n",
    "\n",
    "%store insights_agent_arn\n",
    "%store insights_agent_alias_arn\n",
    "%store insights_agent_alias_id\n",
    "%store insights_lambda_name\n",
    "%store insights_agent_name\n",
    "%store insights_agent_id\n",
    "%store insights_kb\n",
    "%store insights_dynamodb"
   ]
  },
  {
   "cell_type": "code",
   "execution_count": null,
   "id": "89384920",
   "metadata": {
    "pycharm": {
     "name": "#%%\n"
    }
   },
   "outputs": [],
   "source": [
    "insights_agent_arn, insights_agent_alias_arn, insights_agent_alias_id"
   ]
  },
  {
   "cell_type": "markdown",
   "id": "89384921",
   "metadata": {
    "pycharm": {
     "name": "#%% md\n"
    }
   },
   "source": [
    "## Next Steps\n",
    "Congratulations! We've now created a Customer Insights Agent that can explain financial visualizations. Next we will create our Risk & Compliance Agent."
   ]
  }
 ],
 "metadata": {
  "kernelspec": {
   "display_name": "Python 3",
   "language": "python",
   "name": "python3"
  },
  "language_info": {
   "codemirror_mode": {
    "name": "ipython",
    "version": 3
   },
   "file_extension": ".py",
   "mimetype": "text/x-python",
   "name": "python",
   "nbconvert_exporter": "python",
   "pygments_lexer": "ipython3",
   "version": "3.12.8"
  }
 },
 "nbformat": 4,
 "nbformat_minor": 5
}